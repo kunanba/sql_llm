{
 "cells": [
  {
   "cell_type": "markdown",
   "id": "4153b116-206b-40f8-a684-bf082c5ebcea",
   "metadata": {},
   "source": [
    "# Building a data analyst agent with LangGraph and Azure Container Apps dynamic sessions\n",
    "\n",
    "\n",
    "\n",
    "**NOTE**: Building LLM systems that interact with SQL databases requires executing model-generated SQL queries. There are inherent risks in doing this. Make sure that your database connection permissions are always scoped as narrowly as possible for your agent's needs. This will mitigate though not eliminate the risks of building a model-driven system. For more on general security best practices, see our [security guidelines](https://python.langchain.com/v0.2/docs/security/)."
   ]
  },
  {
   "cell_type": "markdown",
   "id": "3b70c2be-1141-4107-80db-787f7935102f",
   "metadata": {},
   "source": [
    "## Setup\n",
    "\n",
    "Let's get set up by installing our Python dependencies and setting our OpenAI credentials, Azure Container Apps sessions pool endpoint, and our SQL database connection string.\n",
    "\n",
    "### Install dependencies"
   ]
  },
  {
   "cell_type": "code",
   "execution_count": 1,
   "id": "302f827f-062c-4b83-8239-07b28bfc9651",
   "metadata": {},
   "outputs": [],
   "source": [
    "#%pip install -qU langgraph langchain-azure-dynamic-sessions langchain-openai langchain-community pandas matplotlib"
   ]
  },
  {
   "cell_type": "markdown",
   "id": "7621655b-605c-4690-8ee1-77a4bab8b383",
   "metadata": {},
   "source": [
    "### Set credentials\n",
    "\n",
    "By default this demo uses:\n",
    "- Azure OpenAI for the model: https://learn.microsoft.com/en-us/azure/ai-services/openai/how-to/create-resource\n",
    "\n",
    "- Azure Container Apps dynamic sessions for code execution: https://learn.microsoft.com/en-us/azure/container-apps/sessions-code-interpreter?\n",
    "\n",
    "This LangGraph architecture can also be used with any other [tool-calling LLM](https://python.langchain.com/v0.2/docs/how_to/tool_calling) and any SQL database."
   ]
  },
  {
   "cell_type": "code",
   "execution_count": 2,
   "id": "c05fca2e",
   "metadata": {},
   "outputs": [],
   "source": [
    "from dotenv import load_dotenv, find_dotenv\n",
    "import os\n",
    "import ast\n",
    "import base64\n",
    "import io\n",
    "import json\n",
    "import operator\n",
    "from functools import partial\n",
    "from typing import Annotated, List, Literal, Optional, Sequence, TypedDict\n",
    "\n",
    "import pandas as pd\n",
    "from IPython.display import display\n",
    "from langchain_azure_dynamic_sessions import SessionsPythonREPLTool\n",
    "from langchain_community.utilities import SQLDatabase\n",
    "from langchain_core.messages import AIMessage, BaseMessage, HumanMessage, ToolMessage\n",
    "from langchain_core.prompts import ChatPromptTemplate\n",
    "from pydantic import BaseModel, Field\n",
    "from langchain_core.runnables import RunnablePassthrough\n",
    "from langchain_core.tools import tool\n",
    "from langchain_openai import AzureChatOpenAI\n",
    "from langgraph.graph import END, StateGraph\n",
    "from langgraph.prebuilt import ToolNode\n",
    "from matplotlib.pyplot import imshow\n",
    "from langsmith import traceable\n",
    "from datetime import datetime, date\n",
    "from PIL import Image"
   ]
  },
  {
   "cell_type": "code",
   "execution_count": 3,
   "id": "19589255",
   "metadata": {},
   "outputs": [
    {
     "name": "stdout",
     "output_type": "stream",
     "text": [
      "AZURE_OPENAI_ENDPOINT: https://gpt4-assistants-api.openai.azure.com/\n",
      "SESSIONS_POOL_MANAGEMENT_ENDPOINT: https://eastus.dynamicsessions.io/subscriptions/20fb8150-494e-4483-bd14-745ca60fafa9/resourceGroups/Default-ActivityLogAlerts/sessionPools/aca-dyn-session-arash\n"
     ]
    }
   ],
   "source": [
    "\n",
    "\n",
    "# Load environment variables from .env file\n",
    "load_dotenv()\n",
    "\n",
    "# Access the environment variables\n",
    "AZURE_OPENAI_API_KEY = os.getenv('AZURE_OPENAI_API_KEY')\n",
    "AZURE_OPENAI_ENDPOINT = os.getenv('AZURE_OPENAI_API_ENDPOINT')\n",
    "AZURE_OPENAI_DEPLOYMENT_NAME = os.getenv('AZURE_OPENAI_DEPLOYMENT_NAME')\n",
    "SESSIONS_POOL_MANAGEMENT_ENDPOINT = os.getenv('SESSIONS_POOL_MANAGEMENT_ENDPOINT')\n",
    "AZURE_OPENAI_API_VERSION = os.getenv('AZURE_OPENAI_VERSION')\n",
    "SQL_SERVER = os.getenv('SQL_SERVER')\n",
    "SQL_USER=os.getenv('SQL_USER')\n",
    "SQL_PWD=os.getenv('SQL_PWD')\n",
    "SQL_DATABASE = os.getenv('SQL_DATABASE')\n",
    "LANGCHAIN_TRACING_V2 = os.getenv('LANGCHAIN_TRACING_V2')\n",
    "LANGCHAIN_API_KEY = os.getenv('LANGCHAIN_API_KEY')\n",
    "LANGCHAIN_ENDPOINT = os.getenv('LANGCHAIN_ENDPOINT')\n",
    "LANGCHAIN_PROJECT = os.getenv('LANGCHAIN_PROJECT')\n",
    "print(f\"AZURE_OPENAI_ENDPOINT: {AZURE_OPENAI_ENDPOINT}\")\n",
    "print(f\"SESSIONS_POOL_MANAGEMENT_ENDPOINT: {SESSIONS_POOL_MANAGEMENT_ENDPOINT}\")"
   ]
  },
  {
   "cell_type": "code",
   "execution_count": 4,
   "id": "98eefef0",
   "metadata": {},
   "outputs": [],
   "source": [
    "# import logging\n",
    " \n",
    "# logging.basicConfig(level=logging.DEBUG)\n",
    "# logger = logging.getLogger(__name__)"
   ]
  },
  {
   "cell_type": "markdown",
   "id": "5cc14582-313c-4a61-be5e-a7a1ba26a6e0",
   "metadata": {},
   "source": [
    "## Testing the ROAPI endpoint\n",
    "\n"
   ]
  },
  {
   "cell_type": "code",
   "execution_count": 5,
   "id": "b165f8e9",
   "metadata": {},
   "outputs": [
    {
     "name": "stdout",
     "output_type": "stream",
     "text": [
      "{'asl': {'fields': [{'name': 'Id', 'data_type': 'Utf8', 'nullable': True, 'dict_id': 0, 'dict_is_ordered': False, 'metadata': {}}, {'name': 'AccountId', 'data_type': 'Utf8', 'nullable': True, 'dict_id': 0, 'dict_is_ordered': False, 'metadata': {}}, {'name': 'AccountType', 'data_type': 'Utf8', 'nullable': True, 'dict_id': 0, 'dict_is_ordered': False, 'metadata': {}}, {'name': 'DeviceId', 'data_type': 'Utf8', 'nullable': True, 'dict_id': 0, 'dict_is_ordered': False, 'metadata': {}}, {'name': 'DeviceType', 'data_type': 'Utf8', 'nullable': True, 'dict_id': 0, 'dict_is_ordered': False, 'metadata': {}}, {'name': 'ApiName', 'data_type': 'Utf8', 'nullable': True, 'dict_id': 0, 'dict_is_ordered': False, 'metadata': {}}, {'name': 'LoggedTime', 'data_type': 'Utf8', 'nullable': True, 'dict_id': 0, 'dict_is_ordered': False, 'metadata': {}}, {'name': 'ProfileId', 'data_type': 'Utf8', 'nullable': True, 'dict_id': 0, 'dict_is_ordered': False, 'metadata': {}}, {'name': 'TenantId', 'data_type': 'Utf8', 'nullable': True, 'dict_id': 0, 'dict_is_ordered': False, 'metadata': {}}, {'name': 'MediaFirstRequiredSku', 'data_type': 'Utf8', 'nullable': True, 'dict_id': 0, 'dict_is_ordered': False, 'metadata': {}}, {'name': 'DvrCapability', 'data_type': 'Utf8', 'nullable': True, 'dict_id': 0, 'dict_is_ordered': False, 'metadata': {}}, {'name': 'date', 'data_type': 'Utf8', 'nullable': True, 'dict_id': 0, 'dict_is_ordered': False, 'metadata': {}}], 'metadata': {}}, 'bitmovin': {'fields': [{'name': 'ad', 'data_type': 'Utf8', 'nullable': True, 'dict_id': 0, 'dict_is_ordered': False, 'metadata': {}}, {'name': 'analytics_version', 'data_type': 'Utf8', 'nullable': True, 'dict_id': 0, 'dict_is_ordered': False, 'metadata': {}}, {'name': 'asn', 'data_type': 'Utf8', 'nullable': True, 'dict_id': 0, 'dict_is_ordered': False, 'metadata': {}}, {'name': 'audio_bitrate', 'data_type': 'Int64', 'nullable': True, 'dict_id': 0, 'dict_is_ordered': False, 'metadata': {}}, {'name': 'audio_language', 'data_type': 'Utf8', 'nullable': True, 'dict_id': 0, 'dict_is_ordered': False, 'metadata': {}}, {'name': 'browser', 'data_type': 'Utf8', 'nullable': True, 'dict_id': 0, 'dict_is_ordered': False, 'metadata': {}}, {'name': 'browser_is_bot', 'data_type': 'Boolean', 'nullable': True, 'dict_id': 0, 'dict_is_ordered': False, 'metadata': {}}, {'name': 'browser_version_major', 'data_type': 'Utf8', 'nullable': True, 'dict_id': 0, 'dict_is_ordered': False, 'metadata': {}}, {'name': 'browser_version_minor', 'data_type': 'Utf8', 'nullable': True, 'dict_id': 0, 'dict_is_ordered': False, 'metadata': {}}, {'name': 'buffered', 'data_type': 'Int64', 'nullable': True, 'dict_id': 0, 'dict_is_ordered': False, 'metadata': {}}, {'name': 'cdn_provider', 'data_type': 'Utf8', 'nullable': True, 'dict_id': 0, 'dict_is_ordered': False, 'metadata': {}}, {'name': 'city', 'data_type': 'Utf8', 'nullable': True, 'dict_id': 0, 'dict_is_ordered': False, 'metadata': {}}, {'name': 'client_time', 'data_type': 'Int64', 'nullable': True, 'dict_id': 0, 'dict_is_ordered': False, 'metadata': {}}, {'name': 'country', 'data_type': 'Utf8', 'nullable': True, 'dict_id': 0, 'dict_is_ordered': False, 'metadata': {}}, {'name': 'custom_user_id', 'data_type': 'Utf8', 'nullable': True, 'dict_id': 0, 'dict_is_ordered': False, 'metadata': {}}, {'name': 'date', 'data_type': 'Utf8', 'nullable': True, 'dict_id': 0, 'dict_is_ordered': False, 'metadata': {}}, {'name': 'day', 'data_type': 'Int64', 'nullable': True, 'dict_id': 0, 'dict_is_ordered': False, 'metadata': {}}, {'name': 'device_class', 'data_type': 'Utf8', 'nullable': True, 'dict_id': 0, 'dict_is_ordered': False, 'metadata': {}}, {'name': 'device_type', 'data_type': 'Utf8', 'nullable': True, 'dict_id': 0, 'dict_is_ordered': False, 'metadata': {}}, {'name': 'domain', 'data_type': 'Utf8', 'nullable': True, 'dict_id': 0, 'dict_is_ordered': False, 'metadata': {}}, {'name': 'drm_type', 'data_type': 'Utf8', 'nullable': True, 'dict_id': 0, 'dict_is_ordered': False, 'metadata': {}}, {'name': 'dropped_frames', 'data_type': 'Int64', 'nullable': True, 'dict_id': 0, 'dict_is_ordered': False, 'metadata': {}}, {'name': 'duration', 'data_type': 'Int64', 'nullable': True, 'dict_id': 0, 'dict_is_ordered': False, 'metadata': {}}, {'name': 'hour', 'data_type': 'Int64', 'nullable': True, 'dict_id': 0, 'dict_is_ordered': False, 'metadata': {}}, {'name': 'impression_id', 'data_type': 'Utf8', 'nullable': True, 'dict_id': 0, 'dict_is_ordered': False, 'metadata': {}}, {'name': 'ip_address', 'data_type': 'Utf8', 'nullable': True, 'dict_id': 0, 'dict_is_ordered': False, 'metadata': {}}, {'name': 'is_casting', 'data_type': 'Boolean', 'nullable': True, 'dict_id': 0, 'dict_is_ordered': False, 'metadata': {}}, {'name': 'is_live', 'data_type': 'Boolean', 'nullable': True, 'dict_id': 0, 'dict_is_ordered': False, 'metadata': {}}, {'name': 'is_muted', 'data_type': 'Boolean', 'nullable': True, 'dict_id': 0, 'dict_is_ordered': False, 'metadata': {}}, {'name': 'isp', 'data_type': 'Utf8', 'nullable': True, 'dict_id': 0, 'dict_is_ordered': False, 'metadata': {}}, {'name': 'language', 'data_type': 'Utf8', 'nullable': True, 'dict_id': 0, 'dict_is_ordered': False, 'metadata': {}}, {'name': 'm3u8_url', 'data_type': 'Utf8', 'nullable': True, 'dict_id': 0, 'dict_is_ordered': False, 'metadata': {}}, {'name': 'minute', 'data_type': 'Int64', 'nullable': True, 'dict_id': 0, 'dict_is_ordered': False, 'metadata': {}}, {'name': 'month', 'data_type': 'Int64', 'nullable': True, 'dict_id': 0, 'dict_is_ordered': False, 'metadata': {}}, {'name': 'operatingsystem', 'data_type': 'Utf8', 'nullable': True, 'dict_id': 0, 'dict_is_ordered': False, 'metadata': {}}, {'name': 'operatingsystem_version_major', 'data_type': 'Utf8', 'nullable': True, 'dict_id': 0, 'dict_is_ordered': False, 'metadata': {}}, {'name': 'operatingsystem_version_minor', 'data_type': 'Utf8', 'nullable': True, 'dict_id': 0, 'dict_is_ordered': False, 'metadata': {}}, {'name': 'page_load_time', 'data_type': 'Int64', 'nullable': True, 'dict_id': 0, 'dict_is_ordered': False, 'metadata': {}}, {'name': 'page_load_type', 'data_type': 'Int64', 'nullable': True, 'dict_id': 0, 'dict_is_ordered': False, 'metadata': {}}, {'name': 'paused', 'data_type': 'Int64', 'nullable': True, 'dict_id': 0, 'dict_is_ordered': False, 'metadata': {}}, {'name': 'platform', 'data_type': 'Utf8', 'nullable': True, 'dict_id': 0, 'dict_is_ordered': False, 'metadata': {}}, {'name': 'played', 'data_type': 'Int64', 'nullable': True, 'dict_id': 0, 'dict_is_ordered': False, 'metadata': {}}, {'name': 'player', 'data_type': 'Utf8', 'nullable': True, 'dict_id': 0, 'dict_is_ordered': False, 'metadata': {}}, {'name': 'player_startuptime', 'data_type': 'Int64', 'nullable': True, 'dict_id': 0, 'dict_is_ordered': False, 'metadata': {}}, {'name': 'player_tech', 'data_type': 'Utf8', 'nullable': True, 'dict_id': 0, 'dict_is_ordered': False, 'metadata': {}}, {'name': 'player_version', 'data_type': 'Utf8', 'nullable': True, 'dict_id': 0, 'dict_is_ordered': False, 'metadata': {}}, {'name': 'region', 'data_type': 'Utf8', 'nullable': True, 'dict_id': 0, 'dict_is_ordered': False, 'metadata': {}}, {'name': 'screen_height', 'data_type': 'Int64', 'nullable': True, 'dict_id': 0, 'dict_is_ordered': False, 'metadata': {}}, {'name': 'screen_width', 'data_type': 'Int64', 'nullable': True, 'dict_id': 0, 'dict_is_ordered': False, 'metadata': {}}, {'name': 'seeked', 'data_type': 'Int64', 'nullable': True, 'dict_id': 0, 'dict_is_ordered': False, 'metadata': {}}, {'name': 'sequence_number', 'data_type': 'Int32', 'nullable': True, 'dict_id': 0, 'dict_is_ordered': False, 'metadata': {}}, {'name': 'startuptime', 'data_type': 'Int64', 'nullable': True, 'dict_id': 0, 'dict_is_ordered': False, 'metadata': {}}, {'name': 'state', 'data_type': 'Utf8', 'nullable': True, 'dict_id': 0, 'dict_is_ordered': False, 'metadata': {}}, {'name': 'stream_format', 'data_type': 'Utf8', 'nullable': True, 'dict_id': 0, 'dict_is_ordered': False, 'metadata': {}}, {'name': 'subtitle_enabled', 'data_type': 'Boolean', 'nullable': True, 'dict_id': 0, 'dict_is_ordered': False, 'metadata': {}}, {'name': 'subtitle_language', 'data_type': 'Utf8', 'nullable': True, 'dict_id': 0, 'dict_is_ordered': False, 'metadata': {}}, {'name': 'tenant', 'data_type': 'Utf8', 'nullable': True, 'dict_id': 0, 'dict_is_ordered': False, 'metadata': {}}, {'name': 'time', 'data_type': 'Int64', 'nullable': True, 'dict_id': 0, 'dict_is_ordered': False, 'metadata': {}}, {'name': 'user_id', 'data_type': 'Utf8', 'nullable': True, 'dict_id': 0, 'dict_is_ordered': False, 'metadata': {}}, {'name': 'video_bitrate', 'data_type': 'Int64', 'nullable': True, 'dict_id': 0, 'dict_is_ordered': False, 'metadata': {}}, {'name': 'video_codec', 'data_type': 'Utf8', 'nullable': True, 'dict_id': 0, 'dict_is_ordered': False, 'metadata': {}}, {'name': 'video_duration', 'data_type': 'Int64', 'nullable': True, 'dict_id': 0, 'dict_is_ordered': False, 'metadata': {}}, {'name': 'video_id', 'data_type': 'Utf8', 'nullable': True, 'dict_id': 0, 'dict_is_ordered': False, 'metadata': {}}, {'name': 'video_playback_height', 'data_type': 'Int64', 'nullable': True, 'dict_id': 0, 'dict_is_ordered': False, 'metadata': {}}, {'name': 'video_playback_width', 'data_type': 'Int64', 'nullable': True, 'dict_id': 0, 'dict_is_ordered': False, 'metadata': {}}, {'name': 'video_startuptime', 'data_type': 'Int64', 'nullable': True, 'dict_id': 0, 'dict_is_ordered': False, 'metadata': {}}, {'name': 'video_title', 'data_type': 'Utf8', 'nullable': True, 'dict_id': 0, 'dict_is_ordered': False, 'metadata': {}}, {'name': 'video_window_height', 'data_type': 'Int64', 'nullable': True, 'dict_id': 0, 'dict_is_ordered': False, 'metadata': {}}, {'name': 'video_window_width', 'data_type': 'Int64', 'nullable': True, 'dict_id': 0, 'dict_is_ordered': False, 'metadata': {}}, {'name': 'videostart_failed', 'data_type': 'Boolean', 'nullable': True, 'dict_id': 0, 'dict_is_ordered': False, 'metadata': {}}, {'name': 'videostart_failed_reason', 'data_type': 'Utf8', 'nullable': True, 'dict_id': 0, 'dict_is_ordered': False, 'metadata': {}}, {'name': 'videotime_end', 'data_type': 'Int64', 'nullable': True, 'dict_id': 0, 'dict_is_ordered': False, 'metadata': {}}, {'name': 'videotime_start', 'data_type': 'Int64', 'nullable': True, 'dict_id': 0, 'dict_is_ordered': False, 'metadata': {}}, {'name': 'audio_codec', 'data_type': 'Utf8', 'nullable': True, 'dict_id': 0, 'dict_is_ordered': False, 'metadata': {}}, {'name': 'custom_data_1', 'data_type': 'Utf8', 'nullable': True, 'dict_id': 0, 'dict_is_ordered': False, 'metadata': {}}, {'name': 'custom_data_2', 'data_type': 'Utf8', 'nullable': True, 'dict_id': 0, 'dict_is_ordered': False, 'metadata': {}}, {'name': 'custom_data_3', 'data_type': 'Utf8', 'nullable': True, 'dict_id': 0, 'dict_is_ordered': False, 'metadata': {}}, {'name': 'custom_data_4', 'data_type': 'Utf8', 'nullable': True, 'dict_id': 0, 'dict_is_ordered': False, 'metadata': {}}, {'name': 'custom_data_5', 'data_type': 'Utf8', 'nullable': True, 'dict_id': 0, 'dict_is_ordered': False, 'metadata': {}}, {'name': 'experiment_name', 'data_type': 'Utf8', 'nullable': True, 'dict_id': 0, 'dict_is_ordered': False, 'metadata': {}}, {'name': 'path', 'data_type': 'Utf8', 'nullable': True, 'dict_id': 0, 'dict_is_ordered': False, 'metadata': {}}, {'name': 'player_key', 'data_type': 'Utf8', 'nullable': True, 'dict_id': 0, 'dict_is_ordered': False, 'metadata': {}}], 'metadata': {}}}\n"
     ]
    }
   ],
   "source": [
    "import requests\n",
    "\n",
    "# Replace with your actual roapi URL\n",
    "url = \"http://roapi-app-arash.dhbjd9bvccbjedea.eastus.azurecontainer.io:8000/api/schema\"\n",
    "\n",
    "response = requests.get(url)\n",
    "\n",
    "if response.status_code == 200:\n",
    "    schema = response.json()\n",
    "    print(schema)\n",
    "else:\n",
    "    print(\"Error:\", response.status_code)"
   ]
  },
  {
   "cell_type": "markdown",
   "id": "1982c6f2-aa4e-4842-83f2-951205aa0854",
   "metadata": {},
   "source": [
    "For our LLM we need to make sure that we use a model that supports [tool-calling](https://python.langchain.com/v0.2/docs/how_to/tool_calling)."
   ]
  },
  {
   "cell_type": "code",
   "execution_count": 6,
   "id": "ba6201a1-d760-45f1-b14a-bf8d85ceb775",
   "metadata": {},
   "outputs": [],
   "source": [
    "llm = AzureChatOpenAI(azure_endpoint=AZURE_OPENAI_ENDPOINT, api_key=AZURE_OPENAI_API_KEY,\n",
    "    deployment_name=AZURE_OPENAI_DEPLOYMENT_NAME, openai_api_version=AZURE_OPENAI_API_VERSION)\n"
   ]
  },
  {
   "cell_type": "markdown",
   "id": "92e2fcc7-812a-4d18-852f-2f814559b415",
   "metadata": {},
   "source": [
    "And the [dynamic sessions tool](https://python.langchain.com/v0.2/docs/integrations/tools/azure_container_apps_dynamic_sessions/) is what we'll use for code execution."
   ]
  },
  {
   "cell_type": "code",
   "execution_count": 7,
   "id": "89e5a315-c964-493d-84fb-1f453909caae",
   "metadata": {},
   "outputs": [],
   "source": [
    "repl = SessionsPythonREPLTool(\n",
    "    pool_management_endpoint=SESSIONS_POOL_MANAGEMENT_ENDPOINT\n",
    ")"
   ]
  },
  {
   "cell_type": "markdown",
   "id": "ee084fbd-10d3-4328-9d8c-75ffa9437b31",
   "metadata": {},
   "source": [
    "## Define graph\n",
    "\n",
    "Now we're ready to define our application logic. The core elements are the [agent State, Nodes, and Edges](https://langchain-ai.github.io/langgraph/concepts/#core-design).\n",
    "\n",
    "### Define State\n",
    "We'll use a simple agent State which is just a list of messages that every Node can append to:"
   ]
  },
  {
   "cell_type": "code",
   "execution_count": 8,
   "id": "7feef65d-bf11-41bb-9164-5249953eb02e",
   "metadata": {},
   "outputs": [],
   "source": [
    "class AgentState(TypedDict):\n",
    "    messages: Annotated[Sequence[BaseMessage], operator.add]"
   ]
  },
  {
   "cell_type": "markdown",
   "id": "58fe92a3-9a30-464b-bcf3-972af5b92e40",
   "metadata": {},
   "source": [
    "Since our code interpreter can return results like base64-encoded images which we don't want to pass back to the model, we'll create a custom Tool message that allows us to track raw Tool outputs without sending them back to the model."
   ]
  },
  {
   "cell_type": "code",
   "execution_count": 9,
   "id": "36e2d8a2-8881-40bc-81da-b40e8a152d9d",
   "metadata": {},
   "outputs": [],
   "source": [
    "class RawToolMessage(ToolMessage):\n",
    "    \"\"\"\n",
    "    Customized Tool message that lets us pass around the raw tool outputs (along with string contents for passing back to the model).\n",
    "    \"\"\"\n",
    "\n",
    "    raw: dict\n",
    "    \"\"\"Arbitrary (non-string) tool outputs. Won't be sent to model.\"\"\"\n",
    "    tool_name: str\n",
    "    \"\"\"Name of tool that generated output.\"\"\""
   ]
  },
  {
   "cell_type": "markdown",
   "id": "ad1b681c-c918-4dfe-b671-9d6eee457a51",
   "metadata": {},
   "source": [
    "### Define Nodes"
   ]
  },
  {
   "cell_type": "markdown",
   "id": "966aeec1-b930-442c-9ba3-d8ad3800d2a4",
   "metadata": {},
   "source": [
    "First we'll define a node for calling our model. We need to make sure to bind our tools to the model so that it knows to call them. We'll also specify in our prompt the schema of the SQL tables the model has access to, so that it can write relevant SQL queries."
   ]
  },
  {
   "cell_type": "markdown",
   "id": "88f15581-11f6-4421-aa17-5762a84c8032",
   "metadata": {},
   "source": [
    "We'll use our models tool-calling abilities to reliably generate our SQL queries and Python code. To do this we need to define schemas for our tools that the model can use for structuring its tool calls.\n",
    "\n",
    "Note that the class names, docstrings, and attribute typing and descriptions are crucial here, as they're actually passed in to the model (you can effectively think of them as part of the prompt)."
   ]
  },
  {
   "cell_type": "code",
   "execution_count": 10,
   "id": "390f170b-ba13-41fc-8c9b-ee0efdb13b98",
   "metadata": {},
   "outputs": [],
   "source": [
    "# Tool schema for querying SQL db\n",
    "class create_df_from_sql(BaseModel):\n",
    "    \"\"\"Execute a SQL SELECT statement and use the results to create a DataFrame with the given column names.\"\"\"\n",
    "\n",
    "    select_query: str = Field(..., description=\"A SQL SELECT statement.\")\n",
    "    # We're going to convert the results to a Pandas DataFrame that we pass\n",
    "    # to the code intepreter, so we also have the model generate useful column and\n",
    "    # variable names for this DataFrame that the model will refer to when writing\n",
    "    # python code.\n",
    "    df_columns: List[str] = Field(\n",
    "        ..., description=\"Ordered names to give the DataFrame columns.\"\n",
    "    )\n",
    "    df_name: str = Field(\n",
    "        ..., description=\"The name to give the DataFrame variable in downstream code.\"\n",
    "    )\n",
    "\n",
    "\n",
    "# Tool schema for writing Python code\n",
    "class python_shell(BaseModel):\n",
    "    \"\"\"Execute Python code that analyzes the DataFrames that have been generated. Make sure to print any important results.\"\"\"\n",
    "\n",
    "    code: str = Field(\n",
    "        ...,\n",
    "        description=\"The code to execute. Make sure to print any important results.\",\n",
    "    )"
   ]
  },
  {
   "cell_type": "code",
   "execution_count": 11,
   "id": "d1aa6ac0",
   "metadata": {},
   "outputs": [
    {
     "name": "stdout",
     "output_type": "stream",
     "text": [
      "{'asl': {'fields': [{'name': 'Id', 'data_type': 'Utf8', 'nullable': True, 'dict_id': 0, 'dict_is_ordered': False, 'metadata': {}}, {'name': 'AccountId', 'data_type': 'Utf8', 'nullable': True, 'dict_id': 0, 'dict_is_ordered': False, 'metadata': {}}, {'name': 'AccountType', 'data_type': 'Utf8', 'nullable': True, 'dict_id': 0, 'dict_is_ordered': False, 'metadata': {}}, {'name': 'DeviceId', 'data_type': 'Utf8', 'nullable': True, 'dict_id': 0, 'dict_is_ordered': False, 'metadata': {}}, {'name': 'DeviceType', 'data_type': 'Utf8', 'nullable': True, 'dict_id': 0, 'dict_is_ordered': False, 'metadata': {}}, {'name': 'ApiName', 'data_type': 'Utf8', 'nullable': True, 'dict_id': 0, 'dict_is_ordered': False, 'metadata': {}}, {'name': 'LoggedTime', 'data_type': 'Utf8', 'nullable': True, 'dict_id': 0, 'dict_is_ordered': False, 'metadata': {}}, {'name': 'ProfileId', 'data_type': 'Utf8', 'nullable': True, 'dict_id': 0, 'dict_is_ordered': False, 'metadata': {}}, {'name': 'TenantId', 'data_type': 'Utf8', 'nullable': True, 'dict_id': 0, 'dict_is_ordered': False, 'metadata': {}}, {'name': 'MediaFirstRequiredSku', 'data_type': 'Utf8', 'nullable': True, 'dict_id': 0, 'dict_is_ordered': False, 'metadata': {}}, {'name': 'DvrCapability', 'data_type': 'Utf8', 'nullable': True, 'dict_id': 0, 'dict_is_ordered': False, 'metadata': {}}, {'name': 'date', 'data_type': 'Utf8', 'nullable': True, 'dict_id': 0, 'dict_is_ordered': False, 'metadata': {}}], 'metadata': {}}, 'bitmovin': {'fields': [{'name': 'ad', 'data_type': 'Utf8', 'nullable': True, 'dict_id': 0, 'dict_is_ordered': False, 'metadata': {}}, {'name': 'analytics_version', 'data_type': 'Utf8', 'nullable': True, 'dict_id': 0, 'dict_is_ordered': False, 'metadata': {}}, {'name': 'asn', 'data_type': 'Utf8', 'nullable': True, 'dict_id': 0, 'dict_is_ordered': False, 'metadata': {}}, {'name': 'audio_bitrate', 'data_type': 'Int64', 'nullable': True, 'dict_id': 0, 'dict_is_ordered': False, 'metadata': {}}, {'name': 'audio_language', 'data_type': 'Utf8', 'nullable': True, 'dict_id': 0, 'dict_is_ordered': False, 'metadata': {}}, {'name': 'browser', 'data_type': 'Utf8', 'nullable': True, 'dict_id': 0, 'dict_is_ordered': False, 'metadata': {}}, {'name': 'browser_is_bot', 'data_type': 'Boolean', 'nullable': True, 'dict_id': 0, 'dict_is_ordered': False, 'metadata': {}}, {'name': 'browser_version_major', 'data_type': 'Utf8', 'nullable': True, 'dict_id': 0, 'dict_is_ordered': False, 'metadata': {}}, {'name': 'browser_version_minor', 'data_type': 'Utf8', 'nullable': True, 'dict_id': 0, 'dict_is_ordered': False, 'metadata': {}}, {'name': 'buffered', 'data_type': 'Int64', 'nullable': True, 'dict_id': 0, 'dict_is_ordered': False, 'metadata': {}}, {'name': 'cdn_provider', 'data_type': 'Utf8', 'nullable': True, 'dict_id': 0, 'dict_is_ordered': False, 'metadata': {}}, {'name': 'city', 'data_type': 'Utf8', 'nullable': True, 'dict_id': 0, 'dict_is_ordered': False, 'metadata': {}}, {'name': 'client_time', 'data_type': 'Int64', 'nullable': True, 'dict_id': 0, 'dict_is_ordered': False, 'metadata': {}}, {'name': 'country', 'data_type': 'Utf8', 'nullable': True, 'dict_id': 0, 'dict_is_ordered': False, 'metadata': {}}, {'name': 'custom_user_id', 'data_type': 'Utf8', 'nullable': True, 'dict_id': 0, 'dict_is_ordered': False, 'metadata': {}}, {'name': 'date', 'data_type': 'Utf8', 'nullable': True, 'dict_id': 0, 'dict_is_ordered': False, 'metadata': {}}, {'name': 'day', 'data_type': 'Int64', 'nullable': True, 'dict_id': 0, 'dict_is_ordered': False, 'metadata': {}}, {'name': 'device_class', 'data_type': 'Utf8', 'nullable': True, 'dict_id': 0, 'dict_is_ordered': False, 'metadata': {}}, {'name': 'device_type', 'data_type': 'Utf8', 'nullable': True, 'dict_id': 0, 'dict_is_ordered': False, 'metadata': {}}, {'name': 'domain', 'data_type': 'Utf8', 'nullable': True, 'dict_id': 0, 'dict_is_ordered': False, 'metadata': {}}, {'name': 'drm_type', 'data_type': 'Utf8', 'nullable': True, 'dict_id': 0, 'dict_is_ordered': False, 'metadata': {}}, {'name': 'dropped_frames', 'data_type': 'Int64', 'nullable': True, 'dict_id': 0, 'dict_is_ordered': False, 'metadata': {}}, {'name': 'duration', 'data_type': 'Int64', 'nullable': True, 'dict_id': 0, 'dict_is_ordered': False, 'metadata': {}}, {'name': 'hour', 'data_type': 'Int64', 'nullable': True, 'dict_id': 0, 'dict_is_ordered': False, 'metadata': {}}, {'name': 'impression_id', 'data_type': 'Utf8', 'nullable': True, 'dict_id': 0, 'dict_is_ordered': False, 'metadata': {}}, {'name': 'ip_address', 'data_type': 'Utf8', 'nullable': True, 'dict_id': 0, 'dict_is_ordered': False, 'metadata': {}}, {'name': 'is_casting', 'data_type': 'Boolean', 'nullable': True, 'dict_id': 0, 'dict_is_ordered': False, 'metadata': {}}, {'name': 'is_live', 'data_type': 'Boolean', 'nullable': True, 'dict_id': 0, 'dict_is_ordered': False, 'metadata': {}}, {'name': 'is_muted', 'data_type': 'Boolean', 'nullable': True, 'dict_id': 0, 'dict_is_ordered': False, 'metadata': {}}, {'name': 'isp', 'data_type': 'Utf8', 'nullable': True, 'dict_id': 0, 'dict_is_ordered': False, 'metadata': {}}, {'name': 'language', 'data_type': 'Utf8', 'nullable': True, 'dict_id': 0, 'dict_is_ordered': False, 'metadata': {}}, {'name': 'm3u8_url', 'data_type': 'Utf8', 'nullable': True, 'dict_id': 0, 'dict_is_ordered': False, 'metadata': {}}, {'name': 'minute', 'data_type': 'Int64', 'nullable': True, 'dict_id': 0, 'dict_is_ordered': False, 'metadata': {}}, {'name': 'month', 'data_type': 'Int64', 'nullable': True, 'dict_id': 0, 'dict_is_ordered': False, 'metadata': {}}, {'name': 'operatingsystem', 'data_type': 'Utf8', 'nullable': True, 'dict_id': 0, 'dict_is_ordered': False, 'metadata': {}}, {'name': 'operatingsystem_version_major', 'data_type': 'Utf8', 'nullable': True, 'dict_id': 0, 'dict_is_ordered': False, 'metadata': {}}, {'name': 'operatingsystem_version_minor', 'data_type': 'Utf8', 'nullable': True, 'dict_id': 0, 'dict_is_ordered': False, 'metadata': {}}, {'name': 'page_load_time', 'data_type': 'Int64', 'nullable': True, 'dict_id': 0, 'dict_is_ordered': False, 'metadata': {}}, {'name': 'page_load_type', 'data_type': 'Int64', 'nullable': True, 'dict_id': 0, 'dict_is_ordered': False, 'metadata': {}}, {'name': 'paused', 'data_type': 'Int64', 'nullable': True, 'dict_id': 0, 'dict_is_ordered': False, 'metadata': {}}, {'name': 'platform', 'data_type': 'Utf8', 'nullable': True, 'dict_id': 0, 'dict_is_ordered': False, 'metadata': {}}, {'name': 'played', 'data_type': 'Int64', 'nullable': True, 'dict_id': 0, 'dict_is_ordered': False, 'metadata': {}}, {'name': 'player', 'data_type': 'Utf8', 'nullable': True, 'dict_id': 0, 'dict_is_ordered': False, 'metadata': {}}, {'name': 'player_startuptime', 'data_type': 'Int64', 'nullable': True, 'dict_id': 0, 'dict_is_ordered': False, 'metadata': {}}, {'name': 'player_tech', 'data_type': 'Utf8', 'nullable': True, 'dict_id': 0, 'dict_is_ordered': False, 'metadata': {}}, {'name': 'player_version', 'data_type': 'Utf8', 'nullable': True, 'dict_id': 0, 'dict_is_ordered': False, 'metadata': {}}, {'name': 'region', 'data_type': 'Utf8', 'nullable': True, 'dict_id': 0, 'dict_is_ordered': False, 'metadata': {}}, {'name': 'screen_height', 'data_type': 'Int64', 'nullable': True, 'dict_id': 0, 'dict_is_ordered': False, 'metadata': {}}, {'name': 'screen_width', 'data_type': 'Int64', 'nullable': True, 'dict_id': 0, 'dict_is_ordered': False, 'metadata': {}}, {'name': 'seeked', 'data_type': 'Int64', 'nullable': True, 'dict_id': 0, 'dict_is_ordered': False, 'metadata': {}}, {'name': 'sequence_number', 'data_type': 'Int32', 'nullable': True, 'dict_id': 0, 'dict_is_ordered': False, 'metadata': {}}, {'name': 'startuptime', 'data_type': 'Int64', 'nullable': True, 'dict_id': 0, 'dict_is_ordered': False, 'metadata': {}}, {'name': 'state', 'data_type': 'Utf8', 'nullable': True, 'dict_id': 0, 'dict_is_ordered': False, 'metadata': {}}, {'name': 'stream_format', 'data_type': 'Utf8', 'nullable': True, 'dict_id': 0, 'dict_is_ordered': False, 'metadata': {}}, {'name': 'subtitle_enabled', 'data_type': 'Boolean', 'nullable': True, 'dict_id': 0, 'dict_is_ordered': False, 'metadata': {}}, {'name': 'subtitle_language', 'data_type': 'Utf8', 'nullable': True, 'dict_id': 0, 'dict_is_ordered': False, 'metadata': {}}, {'name': 'tenant', 'data_type': 'Utf8', 'nullable': True, 'dict_id': 0, 'dict_is_ordered': False, 'metadata': {}}, {'name': 'time', 'data_type': 'Int64', 'nullable': True, 'dict_id': 0, 'dict_is_ordered': False, 'metadata': {}}, {'name': 'user_id', 'data_type': 'Utf8', 'nullable': True, 'dict_id': 0, 'dict_is_ordered': False, 'metadata': {}}, {'name': 'video_bitrate', 'data_type': 'Int64', 'nullable': True, 'dict_id': 0, 'dict_is_ordered': False, 'metadata': {}}, {'name': 'video_codec', 'data_type': 'Utf8', 'nullable': True, 'dict_id': 0, 'dict_is_ordered': False, 'metadata': {}}, {'name': 'video_duration', 'data_type': 'Int64', 'nullable': True, 'dict_id': 0, 'dict_is_ordered': False, 'metadata': {}}, {'name': 'video_id', 'data_type': 'Utf8', 'nullable': True, 'dict_id': 0, 'dict_is_ordered': False, 'metadata': {}}, {'name': 'video_playback_height', 'data_type': 'Int64', 'nullable': True, 'dict_id': 0, 'dict_is_ordered': False, 'metadata': {}}, {'name': 'video_playback_width', 'data_type': 'Int64', 'nullable': True, 'dict_id': 0, 'dict_is_ordered': False, 'metadata': {}}, {'name': 'video_startuptime', 'data_type': 'Int64', 'nullable': True, 'dict_id': 0, 'dict_is_ordered': False, 'metadata': {}}, {'name': 'video_title', 'data_type': 'Utf8', 'nullable': True, 'dict_id': 0, 'dict_is_ordered': False, 'metadata': {}}, {'name': 'video_window_height', 'data_type': 'Int64', 'nullable': True, 'dict_id': 0, 'dict_is_ordered': False, 'metadata': {}}, {'name': 'video_window_width', 'data_type': 'Int64', 'nullable': True, 'dict_id': 0, 'dict_is_ordered': False, 'metadata': {}}, {'name': 'videostart_failed', 'data_type': 'Boolean', 'nullable': True, 'dict_id': 0, 'dict_is_ordered': False, 'metadata': {}}, {'name': 'videostart_failed_reason', 'data_type': 'Utf8', 'nullable': True, 'dict_id': 0, 'dict_is_ordered': False, 'metadata': {}}, {'name': 'videotime_end', 'data_type': 'Int64', 'nullable': True, 'dict_id': 0, 'dict_is_ordered': False, 'metadata': {}}, {'name': 'videotime_start', 'data_type': 'Int64', 'nullable': True, 'dict_id': 0, 'dict_is_ordered': False, 'metadata': {}}, {'name': 'audio_codec', 'data_type': 'Utf8', 'nullable': True, 'dict_id': 0, 'dict_is_ordered': False, 'metadata': {}}, {'name': 'custom_data_1', 'data_type': 'Utf8', 'nullable': True, 'dict_id': 0, 'dict_is_ordered': False, 'metadata': {}}, {'name': 'custom_data_2', 'data_type': 'Utf8', 'nullable': True, 'dict_id': 0, 'dict_is_ordered': False, 'metadata': {}}, {'name': 'custom_data_3', 'data_type': 'Utf8', 'nullable': True, 'dict_id': 0, 'dict_is_ordered': False, 'metadata': {}}, {'name': 'custom_data_4', 'data_type': 'Utf8', 'nullable': True, 'dict_id': 0, 'dict_is_ordered': False, 'metadata': {}}, {'name': 'custom_data_5', 'data_type': 'Utf8', 'nullable': True, 'dict_id': 0, 'dict_is_ordered': False, 'metadata': {}}, {'name': 'experiment_name', 'data_type': 'Utf8', 'nullable': True, 'dict_id': 0, 'dict_is_ordered': False, 'metadata': {}}, {'name': 'path', 'data_type': 'Utf8', 'nullable': True, 'dict_id': 0, 'dict_is_ordered': False, 'metadata': {}}, {'name': 'player_key', 'data_type': 'Utf8', 'nullable': True, 'dict_id': 0, 'dict_is_ordered': False, 'metadata': {}}], 'metadata': {}}}\n"
     ]
    }
   ],
   "source": [
    "url = \"http://roapi-app-arash.dhbjd9bvccbjedea.eastus.azurecontainer.io:8000/api/schema\"\n",
    "response = requests.get(url)\n",
    "if response.status_code == 200:\n",
    "    schema = response.json()\n",
    "    print(schema)\n",
    "else:\n",
    "    print(\"Error:\", response.status_code)\n"
   ]
  },
  {
   "cell_type": "code",
   "execution_count": 12,
   "id": "94492454",
   "metadata": {},
   "outputs": [
    {
     "name": "stdout",
     "output_type": "stream",
     "text": [
      "asl\n",
      "bitmovin\n"
     ]
    }
   ],
   "source": [
    "import json\n",
    "from sqlalchemy import Table, MetaData, Column, Integer, String, Boolean\n",
    "\n",
    "# Sample JSON output\n",
    "json_output = schema\n",
    "\n",
    "# Function to map data types\n",
    "def map_data_type(data_type):\n",
    "    if data_type == \"Utf8\":\n",
    "        return String\n",
    "    elif data_type == \"Int64\":\n",
    "        return Integer\n",
    "    elif data_type == \"Int32\":\n",
    "        return Integer\n",
    "    elif data_type == \"Boolean\":\n",
    "        return Boolean\n",
    "    else:\n",
    "        return String  # Default to String if unknown\n",
    "\n",
    "# Function to convert JSON to a better SQL formmating input\n",
    "def convert_json_to_table_info(json_output):\n",
    "    metadata = MetaData()\n",
    "    tables = []\n",
    "\n",
    "    for table_name, table_info in json_output.items():\n",
    "        columns = []\n",
    "        for field in table_info[\"fields\"]:\n",
    "            col_type = map_data_type(field[\"data_type\"])\n",
    "            col_args = {\"nullable\": field.get(\"nullable\", True)}\n",
    "            columns.append(Column(field[\"name\"], col_type, **col_args))\n",
    "        \n",
    "        table = Table(table_name, metadata, *columns)\n",
    "        tables.append(table)\n",
    "    \n",
    "    return tables\n",
    "\n",
    "tables = convert_json_to_table_info(json_output)\n",
    "for table in tables:\n",
    "    print(table)\n",
    "   "
   ]
  },
  {
   "cell_type": "code",
   "execution_count": 13,
   "id": "ba4b3275",
   "metadata": {},
   "outputs": [],
   "source": [
    "def generate_table_descriptions(tables):\n",
    "    table_descriptions = ''\n",
    "    for table in tables:\n",
    "        columns = [f\"{column.name} ({str(column.type)})\" for column in table.columns]\n",
    "        table_descriptions += f\"Table '{table.name}' with columns: {', '.join(columns)}\\n\"\n",
    "    return table_descriptions\n",
    "\n",
    "table_descriptions = generate_table_descriptions(tables)"
   ]
  },
  {
   "cell_type": "code",
   "execution_count": 14,
   "id": "2577bb47",
   "metadata": {},
   "outputs": [
    {
     "data": {
      "text/plain": [
       "[Table('asl', MetaData(), Column('Id', String(), table=<asl>), Column('AccountId', String(), table=<asl>), Column('AccountType', String(), table=<asl>), Column('DeviceId', String(), table=<asl>), Column('DeviceType', String(), table=<asl>), Column('ApiName', String(), table=<asl>), Column('LoggedTime', String(), table=<asl>), Column('ProfileId', String(), table=<asl>), Column('TenantId', String(), table=<asl>), Column('MediaFirstRequiredSku', String(), table=<asl>), Column('DvrCapability', String(), table=<asl>), Column('date', String(), table=<asl>), schema=None),\n",
       " Table('bitmovin', MetaData(), Column('ad', String(), table=<bitmovin>), Column('analytics_version', String(), table=<bitmovin>), Column('asn', String(), table=<bitmovin>), Column('audio_bitrate', Integer(), table=<bitmovin>), Column('audio_language', String(), table=<bitmovin>), Column('browser', String(), table=<bitmovin>), Column('browser_is_bot', Boolean(), table=<bitmovin>), Column('browser_version_major', String(), table=<bitmovin>), Column('browser_version_minor', String(), table=<bitmovin>), Column('buffered', Integer(), table=<bitmovin>), Column('cdn_provider', String(), table=<bitmovin>), Column('city', String(), table=<bitmovin>), Column('client_time', Integer(), table=<bitmovin>), Column('country', String(), table=<bitmovin>), Column('custom_user_id', String(), table=<bitmovin>), Column('date', String(), table=<bitmovin>), Column('day', Integer(), table=<bitmovin>), Column('device_class', String(), table=<bitmovin>), Column('device_type', String(), table=<bitmovin>), Column('domain', String(), table=<bitmovin>), Column('drm_type', String(), table=<bitmovin>), Column('dropped_frames', Integer(), table=<bitmovin>), Column('duration', Integer(), table=<bitmovin>), Column('hour', Integer(), table=<bitmovin>), Column('impression_id', String(), table=<bitmovin>), Column('ip_address', String(), table=<bitmovin>), Column('is_casting', Boolean(), table=<bitmovin>), Column('is_live', Boolean(), table=<bitmovin>), Column('is_muted', Boolean(), table=<bitmovin>), Column('isp', String(), table=<bitmovin>), Column('language', String(), table=<bitmovin>), Column('m3u8_url', String(), table=<bitmovin>), Column('minute', Integer(), table=<bitmovin>), Column('month', Integer(), table=<bitmovin>), Column('operatingsystem', String(), table=<bitmovin>), Column('operatingsystem_version_major', String(), table=<bitmovin>), Column('operatingsystem_version_minor', String(), table=<bitmovin>), Column('page_load_time', Integer(), table=<bitmovin>), Column('page_load_type', Integer(), table=<bitmovin>), Column('paused', Integer(), table=<bitmovin>), Column('platform', String(), table=<bitmovin>), Column('played', Integer(), table=<bitmovin>), Column('player', String(), table=<bitmovin>), Column('player_startuptime', Integer(), table=<bitmovin>), Column('player_tech', String(), table=<bitmovin>), Column('player_version', String(), table=<bitmovin>), Column('region', String(), table=<bitmovin>), Column('screen_height', Integer(), table=<bitmovin>), Column('screen_width', Integer(), table=<bitmovin>), Column('seeked', Integer(), table=<bitmovin>), Column('sequence_number', Integer(), table=<bitmovin>), Column('startuptime', Integer(), table=<bitmovin>), Column('state', String(), table=<bitmovin>), Column('stream_format', String(), table=<bitmovin>), Column('subtitle_enabled', Boolean(), table=<bitmovin>), Column('subtitle_language', String(), table=<bitmovin>), Column('tenant', String(), table=<bitmovin>), Column('time', Integer(), table=<bitmovin>), Column('user_id', String(), table=<bitmovin>), Column('video_bitrate', Integer(), table=<bitmovin>), Column('video_codec', String(), table=<bitmovin>), Column('video_duration', Integer(), table=<bitmovin>), Column('video_id', String(), table=<bitmovin>), Column('video_playback_height', Integer(), table=<bitmovin>), Column('video_playback_width', Integer(), table=<bitmovin>), Column('video_startuptime', Integer(), table=<bitmovin>), Column('video_title', String(), table=<bitmovin>), Column('video_window_height', Integer(), table=<bitmovin>), Column('video_window_width', Integer(), table=<bitmovin>), Column('videostart_failed', Boolean(), table=<bitmovin>), Column('videostart_failed_reason', String(), table=<bitmovin>), Column('videotime_end', Integer(), table=<bitmovin>), Column('videotime_start', Integer(), table=<bitmovin>), Column('audio_codec', String(), table=<bitmovin>), Column('custom_data_1', String(), table=<bitmovin>), Column('custom_data_2', String(), table=<bitmovin>), Column('custom_data_3', String(), table=<bitmovin>), Column('custom_data_4', String(), table=<bitmovin>), Column('custom_data_5', String(), table=<bitmovin>), Column('experiment_name', String(), table=<bitmovin>), Column('path', String(), table=<bitmovin>), Column('player_key', String(), table=<bitmovin>), schema=None)]"
      ]
     },
     "execution_count": 14,
     "metadata": {},
     "output_type": "execute_result"
    }
   ],
   "source": [
    "tables"
   ]
  },
  {
   "cell_type": "code",
   "execution_count": 15,
   "id": "339ade45",
   "metadata": {},
   "outputs": [
    {
     "name": "stdout",
     "output_type": "stream",
     "text": [
      "Current Time = 10:50:16\n",
      "Today's date: November 13, 2024\n"
     ]
    }
   ],
   "source": [
    "# Get the current time\n",
    "now = datetime.now()\n",
    "# Print the current time\n",
    "current_time = now.strftime(\"%H:%M:%S\")\n",
    "print(\"Current Time =\", current_time)\n",
    "# Get the current date\n",
    "today = date.today()\n",
    "# Format the date\n",
    "formatted_date = today.strftime(\"%B %d, %Y\")\n",
    "# Print the formatted date\n",
    "print(\"Today's date:\", formatted_date)"
   ]
  },
  {
   "cell_type": "code",
   "execution_count": null,
   "id": "a98cf69a-e25b-4016-a565-aa16e43e417a",
   "metadata": {},
   "outputs": [],
   "source": [
    "system_prompt = f\"\"\"\\\n",
    "You are an expert at ROAPI and Python. You have access to ROAPI \\\n",
    "with the following tables\n",
    "\n",
    "{table_descriptions}\n",
    "\n",
    "Given a user question related to the data in the database, \\\n",
    "first generate the SQL query that conforms to ApacheArrow and Datafusion style. Pay attention to the columns that need to be in double quotes and the ones that should not be. \n",
    "please pay close attention to the following points:\n",
    "1- channel is an alias to device_class so if user asks for count of channel you need to do the count of device_class\n",
    "2- is_live indicates whether the video is live or not so use this if you want to calcualte on demand versus live\n",
    "3- if you need to compare numbers such as duration or anything else if the results are all zero you should not rank them\n",
    "4- the format of the date is like 20240703 so you might need to do some formatting to get the date in the right format\n",
    "Below are some examples of the SQL queries:\n",
    "1- SELECT COUNT(DISTINCT user_id) AS active_user_count FROM bitmovin WHERE date >= to_date(cast(now() AS VARCHAR)) - INTERVAL '200 days' AND user_id IS NOT NULL;\n",
    "2- SELECT * FROM bitmovin WHERE date >= to_date(cast(now() AS VARCHAR)) - INTERVAL '200 days' AND user_id IS NOT NULL LIMIT 10;\n",
    "3- SELECT \"AccountType\", \"DeviceType\", \"ApiName\", COUNT(*) AS api_usage_count FROM asl GROUP BY \n",
    "\"AccountType\", \"DeviceType\", \"ApiName\" ORDER BY \"AccountType\", \"DeviceType\", api_usage_count DESC;\n",
    "4- SELECT asl.\"TenantId\", asl.\"DeviceType\", bitmovin.\"browser\", COUNT(*) AS usage_count, AVG(bitmovin.\"page_load_time\") AS avg_page_load_time,\n",
    "    AVG(bitmovin.\"startuptime\") AS avg_startup_time FROM asl JOIN bitmovin ON asl.\"TenantId\" = bitmovin.\"tenant\"\n",
    "    GROUP BY asl.\"TenantId\", asl.\"DeviceType\", bitmovin.\"browser\" ORDER BY usage_count DESC LIMIT 10;\n",
    "\n",
    "Make sure to make date queries align to today's date {formatted_date}\n",
    "Then tell me the SQL query that you will use. Then get the relevant data from the table as a DataFrame using the create_df_from_sql tool. Then use the \\\n",
    "python_shell to do any analysis required to answer the user question and always generate charts with seaborn always.\"\"\"\n",
    "\n",
    "prompt = ChatPromptTemplate.from_messages(\n",
    "    [\n",
    "        (\"system\", system_prompt),\n",
    "        (\"placeholder\", \"{messages}\"),\n",
    "    ]\n",
    ")\n",
    "\n",
    "\n",
    "def call_model(state: AgentState) -> dict:\n",
    "    \"\"\"Call model with tools passed in.\"\"\"\n",
    "    messages = []\n",
    "\n",
    "    chain = prompt | llm.bind_tools([create_df_from_sql, python_shell])\n",
    "    messages.append(chain.invoke({\"messages\": state[\"messages\"]}))\n",
    "\n",
    "    return {\"messages\": messages}"
   ]
  },
  {
   "cell_type": "markdown",
   "id": "4e87c72e-7f9e-4377-94c9-abd9fb869866",
   "metadata": {},
   "source": [
    "Now we can define the node for executing any SQL queries that were generated by the model. Notice that after we run the query we convert the results into Pandas DataFrames — these will be uploaded the the code interpreter tool in the next step so that it can use the retrieved data."
   ]
  },
  {
   "cell_type": "code",
   "execution_count": null,
   "id": "a229efba-e981-4403-a37c-ab030c929ea4",
   "metadata": {},
   "outputs": [],
   "source": [
    "def execute_sql_query(state: AgentState) -> dict:\n",
    "    \"\"\"Execute the latest SQL queries.\"\"\"\n",
    "    messages = []\n",
    "\n",
    "    for tool_call in state[\"messages\"][-1].tool_calls:\n",
    "        if tool_call[\"name\"] != \"create_df_from_sql\":\n",
    "            continue\n",
    "\n",
    "        # Execute SQL query\n",
    "        sql_query = tool_call[\"args\"][\"select_query\"]\n",
    "        print(\"sql_query: \", sql_query)\n",
    "        url = \"http://roapi-app-arash.dhbjd9bvccbjedea.eastus.azurecontainer.io:8000/api/sql\"\n",
    "        response = requests.post(url, data=sql_query)\n",
    "\n",
    "        # Check if the request was successful\n",
    "        data_sql = None  # Initialize data_sql\n",
    "\n",
    "        if response.status_code == 200:\n",
    "            try:\n",
    "                data_sql = response.json()\n",
    "                print(data_sql)\n",
    "            except requests.JSONDecodeError:\n",
    "                print(\"Failed to decode JSON response.\")\n",
    "        else:\n",
    "            print(f\"Failed to execute SQL query. Status code: {response.status_code}\")\n",
    "            data_sql = [] \n",
    "\n",
    "        # res = db.run(tool_call[\"args\"][\"select_query\"]).fetchall()\n",
    "\n",
    "        # Convert result to Pandas DataFrame\n",
    "        df_columns = tool_call[\"args\"][\"df_columns\"]\n",
    "        df = pd.DataFrame(data_sql, columns=df_columns)\n",
    "        df_name = tool_call[\"args\"][\"df_name\"]\n",
    "\n",
    "        # Add tool output message\n",
    "        messages.append(\n",
    "            RawToolMessage(\n",
    "                f\"Generated dataframe {df_name} with columns {df_columns}\",  # What's sent to model.\n",
    "                raw={df_name: df},\n",
    "                tool_call_id=tool_call[\"id\"],\n",
    "                tool_name=tool_call[\"name\"],\n",
    "            )\n",
    "        )\n",
    "\n",
    "    return {\"messages\": messages}"
   ]
  },
  {
   "cell_type": "markdown",
   "id": "7a67eaaf-1587-4f32-ab5c-e1a04d273c3e",
   "metadata": {},
   "source": [
    "Now we need a node for executing any model-generated Python code. The key steps here are:\n",
    "- Uploading queried data to the code intepreter\n",
    "- Executing model generated code\n",
    "- Parsing results so that images are displayed and not passed in to future model calls\n",
    "\n",
    "To upload the queried data to the model we can take our DataFrames we generated by executing the SQL queries and upload them as CSVs to our code intepreter."
   ]
  },
  {
   "cell_type": "code",
   "execution_count": 18,
   "id": "450c1dd0-4fe4-4ab7-b1d7-e012c3cf0102",
   "metadata": {},
   "outputs": [],
   "source": [
    "def _upload_dfs_to_repl(state: AgentState) -> str:\n",
    "    \"\"\"\n",
    "    Upload generated dfs to code intepreter and return code for loading them.\n",
    "\n",
    "    Note that code intepreter sessions are short-lived so this needs to be done\n",
    "    every agent cycle, even if the dfs were previously uploaded.\n",
    "    \"\"\"\n",
    "    df_dicts = [\n",
    "        msg.raw\n",
    "        for msg in state[\"messages\"]\n",
    "        if isinstance(msg, RawToolMessage) and msg.tool_name == \"create_df_from_sql\"\n",
    "    ]\n",
    "    name_df_map = {name: df for df_dict in df_dicts for name, df in df_dict.items()}\n",
    "\n",
    "    # Data should be uploaded as a BinaryIO.\n",
    "    # Files will be uploaded to the \"/mnt/data/\" directory on the container.\n",
    "    for name, df in name_df_map.items():\n",
    "        buffer = io.StringIO()\n",
    "        df.to_csv(buffer)\n",
    "        buffer.seek(0)\n",
    "        repl.upload_file(data=buffer, remote_file_path=name + \".csv\")\n",
    "\n",
    "    # Code for loading the uploaded files.\n",
    "    df_code = \"import pandas as pd\\n\" + \"\\n\".join(\n",
    "        f\"{name} = pd.read_csv('/mnt/data/{name}.csv')\" for name in name_df_map\n",
    "    )\n",
    "    return df_code\n",
    "\n",
    "\n",
    "def _repl_result_to_msg_content(repl_result: dict) -> str:\n",
    "    \"\"\"\n",
    "    Display images with including them in tool message content using matplotlib.\n",
    "    \"\"\"\n",
    "    content = {}\n",
    "    for k, v in repl_result.items():\n",
    "        # Any image results are returned as a dict of the form:\n",
    "        # {\"type\": \"image\", \"base64_data\": \"...\"}\n",
    "        if isinstance(repl_result[k], dict) and repl_result[k][\"type\"] == \"image\":\n",
    "            # Decode and display image\n",
    "            base64_str = repl_result[k][\"base64_data\"]\n",
    "            img = Image.open(io.BytesIO(base64.decodebytes(bytes(base64_str, \"utf-8\"))))\n",
    "            display(img)\n",
    "        else:\n",
    "            content[k] = repl_result[k]\n",
    "    return json.dumps(content, indent=2)\n",
    "\n",
    "\n",
    "def execute_python(state: AgentState) -> dict:\n",
    "    \"\"\"\n",
    "    Execute the latest generated Python code.\n",
    "    \"\"\"\n",
    "    messages = []\n",
    "\n",
    "    df_code = _upload_dfs_to_repl(state)\n",
    "    last_ai_msg = [msg for msg in state[\"messages\"] if isinstance(msg, AIMessage)][-1]\n",
    "    for tool_call in last_ai_msg.tool_calls:\n",
    "        if tool_call[\"name\"] != \"python_shell\":\n",
    "            continue\n",
    "\n",
    "        generated_code = tool_call[\"args\"][\"code\"]\n",
    "        print(\"generated_code: \", generated_code)\n",
    "        repl_result = repl.execute(df_code + \"\\n\" + generated_code)\n",
    "\n",
    "        messages.append(\n",
    "            RawToolMessage(\n",
    "                _repl_result_to_msg_content(repl_result),\n",
    "                raw=repl_result,\n",
    "                tool_call_id=tool_call[\"id\"],\n",
    "                tool_name=tool_call[\"name\"],\n",
    "            )\n",
    "        )\n",
    "    return {\"messages\": messages}"
   ]
  },
  {
   "cell_type": "markdown",
   "id": "dd530250-60b6-40fb-b1f8-2ff32967ecc8",
   "metadata": {},
   "source": [
    "### Define Edges\n",
    "\n",
    "Now we're ready to put all the pieces together into a graph."
   ]
  },
  {
   "cell_type": "code",
   "execution_count": 19,
   "id": "a04e0a82-1c3e-46d3-95ea-2461c21202ef",
   "metadata": {},
   "outputs": [],
   "source": [
    "def should_continue(state: AgentState) -> str:\n",
    "    \"\"\"\n",
    "    If any Tool messages were generated in the last cycle that means we need to call the model again to interpret the latest results.\n",
    "    \"\"\"\n",
    "    return \"execute_sql_query\" if state[\"messages\"][-1].tool_calls else END"
   ]
  },
  {
   "cell_type": "code",
   "execution_count": 20,
   "id": "b2857ba9-da80-443f-8217-ac0523f90593",
   "metadata": {},
   "outputs": [],
   "source": [
    "workflow = StateGraph(AgentState)\n",
    "\n",
    "workflow.add_node(\"call_model\", call_model)\n",
    "workflow.add_node(\"execute_sql_query\", execute_sql_query)\n",
    "workflow.add_node(\"execute_python\", execute_python)\n",
    "\n",
    "workflow.set_entry_point(\"call_model\")\n",
    "workflow.add_edge(\"execute_sql_query\", \"execute_python\")\n",
    "workflow.add_edge(\"execute_python\", \"call_model\")\n",
    "workflow.add_conditional_edges(\"call_model\", should_continue)\n",
    "\n",
    "app = workflow.compile()"
   ]
  },
  {
   "cell_type": "code",
   "execution_count": 21,
   "id": "74dc8c6c-b520-4f17-88ec-fa789ed911e6",
   "metadata": {},
   "outputs": [
    {
     "name": "stdout",
     "output_type": "stream",
     "text": [
      "                                       +-----------+                                    \n",
      "                                       | __start__ |                                    \n",
      "                                       +-----------+                                    \n",
      "                                              *                                         \n",
      "                                              *                                         \n",
      "                                              *                                         \n",
      "                                       +------------+                                   \n",
      "                                    ...| call_model |...                                \n",
      "                             .......   +------------+   .......                         \n",
      "                     ........          ..           ***        .......                  \n",
      "              .......                ..                ***            ......            \n",
      "          ....                     ..                     **                .......     \n",
      "+---------+           +-------------------+                 **                     .... \n",
      "| __end__ |           | execute_sql_query |                  *                  ....    \n",
      "+---------+           +-------------------+*                 *              ....        \n",
      "                                            *****           *          .....            \n",
      "                                                 ****       *      ....                 \n",
      "                                                     ***    *   ...                     \n",
      "                                                  +----------------+                    \n",
      "                                                  | execute_python |                    \n",
      "                                                  +----------------+                    \n"
     ]
    }
   ],
   "source": [
    "print(app.get_graph().draw_ascii())"
   ]
  },
  {
   "cell_type": "markdown",
   "id": "6d4e079b-0cf8-4f9d-a52b-6a8f980eee4b",
   "metadata": {},
   "source": [
    "## Test it out\n",
    "\n",
    "Replace these examples with questions related to the database you've connected your agent to."
   ]
  },
  {
   "cell_type": "code",
   "execution_count": 25,
   "id": "2c173d6d-a212-448e-b309-299e87f205b8",
   "metadata": {},
   "outputs": [
    {
     "name": "stdout",
     "output_type": "stream",
     "text": [
      "Failed to execute SQL query. Status code: 400\n",
      "generated_code:  import seaborn as sns\n",
      "import matplotlib.pyplot as plt\n",
      "\n",
      "# Load the dataframe\n",
      "active_users_df\n",
      "\n",
      "# Print the active user count\n",
      "active_user_count = active_users_df['active_user_count'][0]\n",
      "print(f'Active user count in the last 200 days: {active_user_count}')\n",
      "generated_code:  # Load the dataframe\n",
      "active_users_df\n",
      "\n",
      "# Print the active user count\n",
      "active_user_count = active_users_df['active_user_count'][0]\n",
      "print(f'Active user count in the last 200 days: {active_user_count}')\n",
      "generated_code:  # Print the entire DataFrame to investigate\n",
      "print(active_users_df)\n",
      "The DataFrame is empty, which indicates that there were no active users in the last 200 days.\n",
      "\n",
      "Thus, the active user count in the last 200 days is 0.\n"
     ]
    }
   ],
   "source": [
    "output = app.invoke({\"messages\": [(\"human\", \"Count of active users in last 200 days\")]})\n",
    "print(output[\"messages\"][-1].content)"
   ]
  },
  {
   "cell_type": "code",
   "execution_count": 24,
   "id": "411052d4",
   "metadata": {},
   "outputs": [
    {
     "name": "stdout",
     "output_type": "stream",
     "text": [
      "[{'active_user_count': 100}]\n",
      "generated_code:  import seaborn as sns\n",
      "import matplotlib.pyplot as plt\n",
      "\n",
      "# Assuming active_users_july is the DataFrame obtained from the SQL query\n",
      "active_users_count = active_users_july['active_user_count'][0]\n",
      "\n",
      "print(f'Active Users in July 2024: {active_users_count}')\n",
      "\n",
      "# Plotting the active users count\n",
      "plt.figure(figsize=(8, 6))\n",
      "sns.barplot(x=['July 2024'], y=[active_users_count])\n",
      "plt.title('Active Users in July 2024')\n",
      "plt.ylabel('Number of Active Users')\n",
      "plt.xlabel('Month')\n",
      "plt.show()\n"
     ]
    },
    {
     "data": {
      "image/png": "[encoded data removed]",
      "text/plain": [
       "<PIL.PngImagePlugin.PngImageFile image mode=RGBA size=695x547>"
      ]
     },
     "metadata": {},
     "output_type": "display_data"
    },
    {
     "name": "stdout",
     "output_type": "stream",
     "text": [
      "The number of active users in July 2024 is 100.\n",
      "\n",
      "Here is a bar chart representing the active users in July 2024:\n",
      "\n",
      "![Active Users in July 2024](sandbox:/mnt/data/active_users_july_chart.png)\n"
     ]
    }
   ],
   "source": [
    "output = app.invoke({\"messages\": [(\"human\", \"Count of active users in the month of July?\")]})\n",
    "print(output[\"messages\"][-1].content)"
   ]
  },
  {
   "cell_type": "markdown",
   "id": "a67fbc65-2161-4518-9eea-f0cdd99b5f59",
   "metadata": {},
   "source": [
    "**LangSmith Trace**: https://smith.langchain.com/o/d9fea088-bf32-40fb-9ea9-65a1bb5d6493/projects/p/328f5a9a-f37d-45a6-b5cb-e1939972e267?timeModel=%7B%22duration%22%3A%227d%22%7D"
   ]
  },
  {
   "cell_type": "code",
   "execution_count": null,
   "id": "10071b83-19c6-468d-b5fc-600b42cd57ac",
   "metadata": {},
   "outputs": [],
   "source": [
    "# # Continue the conversation\n",
    "# output = app.invoke(\n",
    "#     {\"messages\": output[\"messages\"] + [(\"human\", \"Which channel had the highest duration of viewing in last 200 days\")]}\n",
    "# )\n",
    "\n",
    "# print(output[\"messages\"][-1].content)"
   ]
  }
 ],
 "metadata": {
  "kernelspec": {
   "display_name": "gen-ai",
   "language": "python",
   "name": "python3"
  },
  "language_info": {
   "codemirror_mode": {
    "name": "ipython",
    "version": 3
   },
   "file_extension": ".py",
   "mimetype": "text/x-python",
   "name": "python",
   "nbconvert_exporter": "python",
   "pygments_lexer": "ipython3",
   "version": "3.11.7"
  }
 },
 "nbformat": 4,
 "nbformat_minor": 5
}
