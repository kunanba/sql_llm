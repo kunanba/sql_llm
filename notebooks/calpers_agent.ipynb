{
 "cells": [
  {
   "cell_type": "markdown",
   "metadata": {},
   "source": [
    "# Multiagent CSV Data Analysis with Code Interpreter\n",
    "\n",
    "This notebook demonstrates a multiagent system that:\n",
    "\n",
    "- Scans CSV files from a local folder called `data`.\n",
    "- For each CSV file, uploads it and uses a Code Interpreter–based agent (via the Azure AI Projects service) to perform data analysis (e.g. generating summary statistics and visualizations).\n",
    "- Uses a second agent (via Semantic Kernel orchestration) to format and present the analysis results in a structured Markdown output.\n",
    "\n",
    "Make sure you have the required packages installed (e.g., `azure-ai-projects`, `azure-identity`, and `semantic_kernel`) and that your environment variables (such as `PROJECT_CONNECTION_STRING` and `MODEL_DEPLOYMENT_NAME`) are set appropriately.\n"
   ]
  },
  {
   "cell_type": "code",
   "execution_count": 5,
   "metadata": {},
   "outputs": [
    {
     "name": "stdout",
     "output_type": "stream",
     "text": [
      "Configuration loaded and project client initialized.\n"
     ]
    }
   ],
   "source": [
    "import os\n",
    "import glob\n",
    "import asyncio\n",
    "import nest_asyncio\n",
    "from pathlib import Path\n",
    "from dotenv import load_dotenv\n",
    "from IPython.display import display, HTML   \n",
    "\n",
    "load_dotenv()  # Load environment variables from .env file\n",
    "\n",
    "# Allow nested asyncio loops (helpful in notebooks)\n",
    "nest_asyncio.apply()\n",
    "\n",
    "# Import required libraries for the Code Interpreter agent\n",
    "from azure.ai.projects import AIProjectClient\n",
    "from azure.ai.projects.models import FilePurpose, MessageRole, CodeInterpreterTool\n",
    "from azure.identity import DefaultAzureCredential\n",
    "\n",
    "# Set your configuration via environment variables (or hardcode for testing)\n",
    "PROJECT_CONNECTION_STRING = os.getenv('AZURE_AI_AGENT_PROJECT_CONNECTION_STRING')\n",
    "MODEL_DEPLOYMENT_NAME = os.getenv('AZURE_OPENAI_DEPLOYMENT_NAME')  \n",
    "# Initialize the Azure AI Projects client\n",
    "project_client = AIProjectClient.from_connection_string(\n",
    "    credential=DefaultAzureCredential(),\n",
    "    conn_str=PROJECT_CONNECTION_STRING\n",
    ")\n",
    "\n",
    "print(\"Configuration loaded and project client initialized.\")\n"
   ]
  },
  {
   "cell_type": "code",
   "execution_count": 6,
   "metadata": {},
   "outputs": [
    {
     "name": "stdout",
     "output_type": "stream",
     "text": [
      "Configuration loaded.\n"
     ]
    }
   ],
   "source": [
    "import os\n",
    "import glob\n",
    "import asyncio\n",
    "import nest_asyncio\n",
    "from pathlib import Path\n",
    "\n",
    "# Allow nested asyncio loops (helpful in notebooks)\n",
    "nest_asyncio.apply()\n",
    "\n",
    "# Azure AI Projects and Identity Imports (for Code Interpreter tool)\n",
    "\n",
    "\n",
    "# Semantic Kernel agent imports (if needed for local tool integration)\n",
    "# (These are used here to mimic multi-tool capabilities in a single agent.)\n",
    "from semantic_kernel.agents import AzureAIAgent, AzureAIAgentSettings\n",
    "\n",
    "# Configuration: Ensure these environment variables are set in your environment.\n",
    "PROJECT_CONNECTION_STRING = os.getenv(\"AZURE_AI_AGENT_PROJECT_CONNECTION_STRING\")\n",
    "MODEL_DEPLOYMENT_NAME = os.getenv(\"AZURE_OPENAI_DEPLOYMENT_NAME\")\n",
    "\n",
    "print(\"Configuration loaded.\")\n"
   ]
  },
  {
   "cell_type": "code",
   "execution_count": 2,
   "metadata": {},
   "outputs": [
    {
     "name": "stderr",
     "output_type": "stream",
     "text": [
      "c:\\Users\\armoshar\\AppData\\Local\\anaconda3\\envs\\gen-ai\\Lib\\site-packages\\pydantic\\_internal\\_fields.py:132: UserWarning: Field \"model_deployment_name\" in AzureAIAgentSettings has conflict with protected namespace \"model_\".\n",
      "\n",
      "You may be able to resolve this warning by setting `model_config['protected_namespaces'] = ('settings_',)`.\n",
      "  warnings.warn(\n"
     ]
    }
   ],
   "source": [
    "import asyncio\n",
    "from azure.identity.aio import DefaultAzureCredential as AsyncDefaultAzureCredential\n",
    "from semantic_kernel.agents import AgentGroupChat, AzureAIAgent, AzureAIAgentSettings\n",
    "from semantic_kernel.agents.strategies import TerminationStrategy\n",
    "from semantic_kernel.contents import AuthorRole\n",
    "\n",
    "class FormattingTerminationStrategy(TerminationStrategy):\n",
    "    async def should_agent_terminate(self, agent, history):\n",
    "        # Terminate when the formatter agent's message contains the marker 'Formatted Result:'\n",
    "        return 'Formatted Result:' in history[-1].content\n",
    "\n",
    "async def format_analysis_result_async(analysis_text):\n",
    "    # Define agent names and instructions\n",
    "    ANALYST_NAME = \"DataAnalyst\"\n",
    "    ANALYST_INSTRUCTIONS = \"You are a data analyst. Your role is to extract key insights from the analysis text. Provide a concise summary of the main findings.\"\n",
    "    \n",
    "    FORMATTER_NAME = \"Formatter\"\n",
    "    FORMATTER_INSTRUCTIONS = (\n",
    "        \"You are a formatting expert. Your role is to take the analysis summary and format it in Markdown with clear headers, bullet points, \"\n",
    "        \"and a final 'Formatted Result:' section summarizing the insights.\"\n",
    "    )\n",
    "    \n",
    "    TASK = analysis_text\n",
    "\n",
    "    ai_agent_settings = AzureAIAgentSettings.create()\n",
    "\n",
    "    async with (\n",
    "        AsyncDefaultAzureCredential() as creds,\n",
    "        AzureAIAgent.create_client(credential=creds) as client,\n",
    "    ):\n",
    "        # Create the data analyst agent\n",
    "        analyst_definition = await client.agents.create_agent(\n",
    "            model=ai_agent_settings.model_deployment_name,\n",
    "            name=ANALYST_NAME,\n",
    "            instructions=ANALYST_INSTRUCTIONS,\n",
    "        )\n",
    "        agent_analyst = AzureAIAgent(client=client, definition=analyst_definition)\n",
    "\n",
    "        # Create the formatter agent\n",
    "        formatter_definition = await client.agents.create_agent(\n",
    "            model=ai_agent_settings.model_deployment_name,\n",
    "            name=FORMATTER_NAME,\n",
    "            instructions=FORMATTER_INSTRUCTIONS,\n",
    "        )\n",
    "        agent_formatter = AzureAIAgent(client=client, definition=formatter_definition)\n",
    "\n",
    "        # Create a group chat with a custom termination strategy\n",
    "        chat = AgentGroupChat(\n",
    "            agents=[agent_analyst, agent_formatter],\n",
    "            termination_strategy=FormattingTerminationStrategy(agents=[agent_formatter], maximum_iterations=5),\n",
    "        )\n",
    "\n",
    "        try:\n",
    "            # Add the analysis text as the initial message\n",
    "            await chat.add_chat_message(messages=TASK)\n",
    "            print(f\"# {AuthorRole.USER}: '{TASK[:60]}...'\")\n",
    "            \n",
    "            formatted_result = \"\"\n",
    "            async for content in chat.invoke():\n",
    "                print(f\"# {content.role} - {content.name or '*'}: '{content.content}'\")\n",
    "                if content.role == AuthorRole.ASSISTANT and content.name == FORMATTER_NAME:\n",
    "                    formatted_result = content.content\n",
    "            return formatted_result\n",
    "        finally:\n",
    "            await chat.reset()\n",
    "            await client.agents.delete_agent(agent_analyst.id)\n",
    "            await client.agents.delete_agent(agent_formatter.id)\n",
    "\n",
    "def format_analysis_result(analysis_text):\n",
    "    return asyncio.run(format_analysis_result_async(analysis_text))\n",
    "\n",
    "# To test the formatting conversation, paste your analysis text below and run:\n",
    "# analysis_text = \"Paste your analysis text here...\"\n",
    "# formatted_output = format_analysis_result(analysis_text)\n",
    "# print(\"Formatted Output:\\n\", formatted_output)\n"
   ]
  },
  {
   "cell_type": "code",
   "execution_count": 3,
   "metadata": {},
   "outputs": [
    {
     "ename": "TypeError",
     "evalue": "AgentChat.add_chat_message() got an unexpected keyword argument 'messages'",
     "output_type": "error",
     "traceback": [
      "\u001b[1;31m---------------------------------------------------------------------------\u001b[0m",
      "\u001b[1;31mTypeError\u001b[0m                                 Traceback (most recent call last)",
      "Cell \u001b[1;32mIn[3], line 2\u001b[0m\n\u001b[0;32m      1\u001b[0m analysis_text \u001b[38;5;241m=\u001b[39m \u001b[38;5;124m\"\u001b[39m\u001b[38;5;124mwhat is Net Change in Plan Fiduciary Net Position for all yeas?\u001b[39m\u001b[38;5;124m\"\u001b[39m\n\u001b[1;32m----> 2\u001b[0m formatted_output \u001b[38;5;241m=\u001b[39m \u001b[43mformat_analysis_result\u001b[49m\u001b[43m(\u001b[49m\u001b[43manalysis_text\u001b[49m\u001b[43m)\u001b[49m\n\u001b[0;32m      3\u001b[0m \u001b[38;5;28mprint\u001b[39m(\u001b[38;5;124m\"\u001b[39m\u001b[38;5;124mFormatted Output:\u001b[39m\u001b[38;5;130;01m\\n\u001b[39;00m\u001b[38;5;124m\"\u001b[39m, formatted_output)\n",
      "Cell \u001b[1;32mIn[2], line 70\u001b[0m, in \u001b[0;36mformat_analysis_result\u001b[1;34m(analysis_text)\u001b[0m\n\u001b[0;32m     69\u001b[0m \u001b[38;5;28;01mdef\u001b[39;00m \u001b[38;5;21mformat_analysis_result\u001b[39m(analysis_text):\n\u001b[1;32m---> 70\u001b[0m     \u001b[38;5;28;01mreturn\u001b[39;00m \u001b[43masyncio\u001b[49m\u001b[38;5;241;43m.\u001b[39;49m\u001b[43mrun\u001b[49m\u001b[43m(\u001b[49m\u001b[43mformat_analysis_result_async\u001b[49m\u001b[43m(\u001b[49m\u001b[43manalysis_text\u001b[49m\u001b[43m)\u001b[49m\u001b[43m)\u001b[49m\n",
      "File \u001b[1;32mc:\\Users\\armoshar\\AppData\\Local\\anaconda3\\envs\\gen-ai\\Lib\\site-packages\\nest_asyncio.py:30\u001b[0m, in \u001b[0;36m_patch_asyncio.<locals>.run\u001b[1;34m(main, debug)\u001b[0m\n\u001b[0;32m     28\u001b[0m task \u001b[38;5;241m=\u001b[39m asyncio\u001b[38;5;241m.\u001b[39mensure_future(main)\n\u001b[0;32m     29\u001b[0m \u001b[38;5;28;01mtry\u001b[39;00m:\n\u001b[1;32m---> 30\u001b[0m     \u001b[38;5;28;01mreturn\u001b[39;00m \u001b[43mloop\u001b[49m\u001b[38;5;241;43m.\u001b[39;49m\u001b[43mrun_until_complete\u001b[49m\u001b[43m(\u001b[49m\u001b[43mtask\u001b[49m\u001b[43m)\u001b[49m\n\u001b[0;32m     31\u001b[0m \u001b[38;5;28;01mfinally\u001b[39;00m:\n\u001b[0;32m     32\u001b[0m     \u001b[38;5;28;01mif\u001b[39;00m \u001b[38;5;129;01mnot\u001b[39;00m task\u001b[38;5;241m.\u001b[39mdone():\n",
      "File \u001b[1;32mc:\\Users\\armoshar\\AppData\\Local\\anaconda3\\envs\\gen-ai\\Lib\\site-packages\\nest_asyncio.py:98\u001b[0m, in \u001b[0;36m_patch_loop.<locals>.run_until_complete\u001b[1;34m(self, future)\u001b[0m\n\u001b[0;32m     95\u001b[0m \u001b[38;5;28;01mif\u001b[39;00m \u001b[38;5;129;01mnot\u001b[39;00m f\u001b[38;5;241m.\u001b[39mdone():\n\u001b[0;32m     96\u001b[0m     \u001b[38;5;28;01mraise\u001b[39;00m \u001b[38;5;167;01mRuntimeError\u001b[39;00m(\n\u001b[0;32m     97\u001b[0m         \u001b[38;5;124m'\u001b[39m\u001b[38;5;124mEvent loop stopped before Future completed.\u001b[39m\u001b[38;5;124m'\u001b[39m)\n\u001b[1;32m---> 98\u001b[0m \u001b[38;5;28;01mreturn\u001b[39;00m \u001b[43mf\u001b[49m\u001b[38;5;241;43m.\u001b[39;49m\u001b[43mresult\u001b[49m\u001b[43m(\u001b[49m\u001b[43m)\u001b[49m\n",
      "File \u001b[1;32mc:\\Users\\armoshar\\AppData\\Local\\anaconda3\\envs\\gen-ai\\Lib\\asyncio\\futures.py:203\u001b[0m, in \u001b[0;36mFuture.result\u001b[1;34m(self)\u001b[0m\n\u001b[0;32m    201\u001b[0m \u001b[38;5;28mself\u001b[39m\u001b[38;5;241m.\u001b[39m__log_traceback \u001b[38;5;241m=\u001b[39m \u001b[38;5;28;01mFalse\u001b[39;00m\n\u001b[0;32m    202\u001b[0m \u001b[38;5;28;01mif\u001b[39;00m \u001b[38;5;28mself\u001b[39m\u001b[38;5;241m.\u001b[39m_exception \u001b[38;5;129;01mis\u001b[39;00m \u001b[38;5;129;01mnot\u001b[39;00m \u001b[38;5;28;01mNone\u001b[39;00m:\n\u001b[1;32m--> 203\u001b[0m     \u001b[38;5;28;01mraise\u001b[39;00m \u001b[38;5;28mself\u001b[39m\u001b[38;5;241m.\u001b[39m_exception\u001b[38;5;241m.\u001b[39mwith_traceback(\u001b[38;5;28mself\u001b[39m\u001b[38;5;241m.\u001b[39m_exception_tb)\n\u001b[0;32m    204\u001b[0m \u001b[38;5;28;01mreturn\u001b[39;00m \u001b[38;5;28mself\u001b[39m\u001b[38;5;241m.\u001b[39m_result\n",
      "File \u001b[1;32mc:\\Users\\armoshar\\AppData\\Local\\anaconda3\\envs\\gen-ai\\Lib\\asyncio\\tasks.py:277\u001b[0m, in \u001b[0;36mTask.__step\u001b[1;34m(***failed resolving arguments***)\u001b[0m\n\u001b[0;32m    273\u001b[0m \u001b[38;5;28;01mtry\u001b[39;00m:\n\u001b[0;32m    274\u001b[0m     \u001b[38;5;28;01mif\u001b[39;00m exc \u001b[38;5;129;01mis\u001b[39;00m \u001b[38;5;28;01mNone\u001b[39;00m:\n\u001b[0;32m    275\u001b[0m         \u001b[38;5;66;03m# We use the `send` method directly, because coroutines\u001b[39;00m\n\u001b[0;32m    276\u001b[0m         \u001b[38;5;66;03m# don't have `__iter__` and `__next__` methods.\u001b[39;00m\n\u001b[1;32m--> 277\u001b[0m         result \u001b[38;5;241m=\u001b[39m coro\u001b[38;5;241m.\u001b[39msend(\u001b[38;5;28;01mNone\u001b[39;00m)\n\u001b[0;32m    278\u001b[0m     \u001b[38;5;28;01melse\u001b[39;00m:\n\u001b[0;32m    279\u001b[0m         result \u001b[38;5;241m=\u001b[39m coro\u001b[38;5;241m.\u001b[39mthrow(exc)\n",
      "Cell \u001b[1;32mIn[2], line 55\u001b[0m, in \u001b[0;36mformat_analysis_result_async\u001b[1;34m(analysis_text)\u001b[0m\n\u001b[0;32m     48\u001b[0m chat \u001b[38;5;241m=\u001b[39m AgentGroupChat(\n\u001b[0;32m     49\u001b[0m     agents\u001b[38;5;241m=\u001b[39m[agent_analyst, agent_formatter],\n\u001b[0;32m     50\u001b[0m     termination_strategy\u001b[38;5;241m=\u001b[39mFormattingTerminationStrategy(agents\u001b[38;5;241m=\u001b[39m[agent_formatter], maximum_iterations\u001b[38;5;241m=\u001b[39m\u001b[38;5;241m5\u001b[39m),\n\u001b[0;32m     51\u001b[0m )\n\u001b[0;32m     53\u001b[0m \u001b[38;5;28;01mtry\u001b[39;00m:\n\u001b[0;32m     54\u001b[0m     \u001b[38;5;66;03m# Add the analysis text as the initial message\u001b[39;00m\n\u001b[1;32m---> 55\u001b[0m     \u001b[38;5;28;01mawait\u001b[39;00m \u001b[43mchat\u001b[49m\u001b[38;5;241;43m.\u001b[39;49m\u001b[43madd_chat_message\u001b[49m\u001b[43m(\u001b[49m\u001b[43mmessages\u001b[49m\u001b[38;5;241;43m=\u001b[39;49m\u001b[43mTASK\u001b[49m\u001b[43m)\u001b[49m\n\u001b[0;32m     56\u001b[0m     \u001b[38;5;28mprint\u001b[39m(\u001b[38;5;124mf\u001b[39m\u001b[38;5;124m\"\u001b[39m\u001b[38;5;124m# \u001b[39m\u001b[38;5;132;01m{\u001b[39;00mAuthorRole\u001b[38;5;241m.\u001b[39mUSER\u001b[38;5;132;01m}\u001b[39;00m\u001b[38;5;124m: \u001b[39m\u001b[38;5;124m'\u001b[39m\u001b[38;5;132;01m{\u001b[39;00mTASK[:\u001b[38;5;241m60\u001b[39m]\u001b[38;5;132;01m}\u001b[39;00m\u001b[38;5;124m...\u001b[39m\u001b[38;5;124m'\u001b[39m\u001b[38;5;124m\"\u001b[39m)\n\u001b[0;32m     58\u001b[0m     formatted_result \u001b[38;5;241m=\u001b[39m \u001b[38;5;124m\"\u001b[39m\u001b[38;5;124m\"\u001b[39m\n",
      "\u001b[1;31mTypeError\u001b[0m: AgentChat.add_chat_message() got an unexpected keyword argument 'messages'"
     ]
    }
   ],
   "source": [
    "analysis_text = \"what is Net Change in Plan Fiduciary Net Position for all yeas?\"\n",
    "formatted_output = format_analysis_result(analysis_text)\n",
    "print(\"Formatted Output:\\n\", formatted_output)"
   ]
  },
  {
   "cell_type": "code",
   "execution_count": null,
   "metadata": {},
   "outputs": [],
   "source": []
  }
 ],
 "metadata": {
  "kernelspec": {
   "display_name": "gen-ai",
   "language": "python",
   "name": "python3"
  },
  "language_info": {
   "codemirror_mode": {
    "name": "ipython",
    "version": 3
   },
   "file_extension": ".py",
   "mimetype": "text/x-python",
   "name": "python",
   "nbconvert_exporter": "python",
   "pygments_lexer": "ipython3",
   "version": "3.11.7"
  }
 },
 "nbformat": 4,
 "nbformat_minor": 2
}
