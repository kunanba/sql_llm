{
 "cells": [
  {
   "cell_type": "code",
   "execution_count": 10,
   "metadata": {},
   "outputs": [],
   "source": [
    "# "
   ]
  },
  {
   "cell_type": "code",
   "execution_count": 2,
   "metadata": {},
   "outputs": [],
   "source": [
    "import os\n",
    "import time\n",
    "import json\n",
    "import requests\n",
    "from openai import AzureOpenAI\n",
    "from dotenv import load_dotenv\n",
    "from datetime import datetime, date\n",
    "from zoneinfo import ZoneInfo\n",
    "from openai.types.beta import Thread\n",
    "from openai.types.beta import Assistant\n",
    "\n",
    "\n",
    "load_dotenv()\n",
    "# Initialize the Azure OpenAI client\n",
    "assistant_client = AzureOpenAI(\n",
    "    azure_endpoint = os.getenv(\"AZURE_OPENAI_ENDPOINT\"), \n",
    "    api_key=os.getenv(\"AZURE_OPENAI_API_KEY\"),  \n",
    "    api_version=os.getenv('AZURE_OPENAI_API_VERSION')\n",
    ")\n",
    "\n",
    "# Define the deployment you want to use for your chat completions API calls\n",
    "\n",
    "deployment_name = os.getenv('AZURE_OPENAI_DEPLOYMENT_NAME')\n",
    "# AZURE_TRACING_GEN_AI_CONTENT_RECORDING_ENABLED"
   ]
  },
  {
   "cell_type": "code",
   "execution_count": 3,
   "metadata": {},
   "outputs": [],
   "source": [
    "# %pip install --upgrade azure-ai-inference"
   ]
  },
  {
   "cell_type": "code",
   "execution_count": 4,
   "metadata": {},
   "outputs": [],
   "source": [
    "# from azure.core.settings import settings\n",
    "\n",
    "# settings.tracing_implementation = \"opentelemetry\""
   ]
  },
  {
   "cell_type": "code",
   "execution_count": 5,
   "metadata": {},
   "outputs": [],
   "source": [
    "from azure.ai.inference.tracing import AIInferenceInstrumentor\n",
    "# Instrument AI Inference API \n",
    "\n",
    "AIInferenceInstrumentor().instrument()"
   ]
  },
  {
   "cell_type": "code",
   "execution_count": 6,
   "metadata": {},
   "outputs": [],
   "source": [
    "# AIInferenceInstrumentor().uninstrument() "
   ]
  },
  {
   "cell_type": "code",
   "execution_count": 7,
   "metadata": {},
   "outputs": [],
   "source": [
    "# %pip install azure-monitor-opentelemetry"
   ]
  },
  {
   "cell_type": "code",
   "execution_count": 8,
   "metadata": {},
   "outputs": [],
   "source": [
    "# import os\n",
    "# from azure.monitor.opentelemetry import configure_azure_monitor\n",
    "\n",
    "# os.environ['AZURE_TRACING_GEN_AI_CONTENT_RECORDING_ENABLED'] = 'true'\n",
    "# # Enable Azure Monitor tracing\n",
    "# application_insights_connection_string = project.telemetry.get_connection_string()\n",
    "# if not application_insights_connection_string:\n",
    "#     print(\"Application Insights was not enabled for this project.\")\n",
    "#     print(\"Enable it via the 'Tracing' tab in your AI Studio project page.\")\n",
    "#     exit()\n",
    "    \n",
    "# configure_azure_monitor(connection_string=application_insights_connection_string)"
   ]
  },
  {
   "cell_type": "code",
   "execution_count": 9,
   "metadata": {},
   "outputs": [],
   "source": [
    "name_date = \"date_time_assistant\"\n",
    "instructions_date = \"\"\"You are analytics agent that obtains today's date and time in the local timezone of the user.\"\"\"\n",
    "tools = [\n",
    "    {\n",
    "        \"type\": \"function\",\n",
    "        \"function\": {\n",
    "            \"name\": \"get_current_date\",\n",
    "            \"description\": \"Get the current date and time in the local timezone of the user.\",\n",
    "            \"parameters\": {\n",
    "                \"type\": \"object\",\n",
    "                \"properties\": {},\n",
    "                \"required\": [],\n",
    "            },\n",
    "        },\n",
    "    }\n",
    "]\n",
    "\n",
    "verbose_output = True\n"
   ]
  },
  {
   "cell_type": "code",
   "execution_count": 10,
   "metadata": {},
   "outputs": [],
   "source": [
    "name_schema = \"data_schema_assistant\"\n",
    "instructions_schema = \"\"\"\"You are a data analyst that analyzes the table metadata and returns the schema.\"\"\"\n",
    "tools = [\n",
    "    {\n",
    "        \"type\": \"function\",\n",
    "        \"function\": {\n",
    "            \"name\": \"generate_table_schema\",\n",
    "            \"description\": \"analyzes the table metadata and returns the schema\",\n",
    "            \"parameters\": {\"type\": \"object\", \"properties\": {}, \"required\": []},\n",
    "        },\n",
    "    }\n",
    "]\n",
    "\n",
    "verbose_output = True"
   ]
  },
  {
   "cell_type": "code",
   "execution_count": 11,
   "metadata": {},
   "outputs": [],
   "source": [
    "def get_current_date():\n",
    "    \"\"\"Get the current date\"\"\"\n",
    "    now = datetime.now()\n",
    "    # Print the current time\n",
    "    current_time = now.strftime(\"%H:%M:%S\")\n",
    "    print(\"Current Time =\", current_time)\n",
    "    # Get the current date\n",
    "    today = date.today()\n",
    "    # Format the date\n",
    "    formatted_date = today.strftime(\"%B %d, %Y\")\n",
    "    # Print the formatted date\n",
    "    print(\"Today's date:\", formatted_date)\n",
    "\n",
    "    return json.dumps({\"current_time\": current_time, \"current_date\": formatted_date})"
   ]
  },
  {
   "cell_type": "code",
   "execution_count": 12,
   "metadata": {},
   "outputs": [],
   "source": [
    "def generate_table_schema(url):\n",
    "    url = \"http://roapi-app-arash.dhbjd9bvccbjedea.eastus.azurecontainer.io:8000/api/schema\"\n",
    "    response = requests.get(url)\n",
    "    if response.status_code == 200:\n",
    "        schema = response.json()\n",
    "        print(schema)\n",
    "    else:\n",
    "        print(\"Error:\", response.status_code)\n",
    "    # Sample JSON output\n",
    "    result = []  \n",
    "    for table_name, table_info in schema.items():  \n",
    "        columns = []  \n",
    "        for field in table_info['fields']:  \n",
    "            column_name = field['name']  \n",
    "            data_type = field['data_type']  \n",
    "              \n",
    "            # Map the data type to the desired format  \n",
    "            if data_type == 'Utf8':  \n",
    "                sql_data_type = 'VARCHAR'  \n",
    "            elif data_type == 'Int64' or data_type == 'Int32':  \n",
    "                sql_data_type = 'INTEGER'  \n",
    "            elif data_type == 'Boolean':  \n",
    "                sql_data_type = 'BOOLEAN'  \n",
    "            else:  \n",
    "                sql_data_type = 'UNKNOWN'  # Handle any unexpected data types  \n",
    "              \n",
    "            columns.append(f\"{column_name} ({sql_data_type})\")  \n",
    "          \n",
    "        columns_str = \", \".join(columns)  \n",
    "        result.append(f\"Table '{table_name}' with columns: {columns_str}\")  \n",
    "      \n",
    "    return \"\\n\".join(result)"
   ]
  },
  {
   "cell_type": "code",
   "execution_count": 13,
   "metadata": {},
   "outputs": [
    {
     "name": "stdout",
     "output_type": "stream",
     "text": [
      "Current Time = 15:16:57\n",
      "Today's date: November 21, 2024\n"
     ]
    }
   ],
   "source": [
    "current_date = get_current_date()"
   ]
  },
  {
   "cell_type": "code",
   "execution_count": 14,
   "metadata": {},
   "outputs": [
    {
     "name": "stdout",
     "output_type": "stream",
     "text": [
      "{'asl': {'fields': [{'name': 'Id', 'data_type': 'Utf8', 'nullable': True, 'dict_id': 0, 'dict_is_ordered': False, 'metadata': {}}, {'name': 'AccountId', 'data_type': 'Utf8', 'nullable': True, 'dict_id': 0, 'dict_is_ordered': False, 'metadata': {}}, {'name': 'AccountType', 'data_type': 'Utf8', 'nullable': True, 'dict_id': 0, 'dict_is_ordered': False, 'metadata': {}}, {'name': 'DeviceId', 'data_type': 'Utf8', 'nullable': True, 'dict_id': 0, 'dict_is_ordered': False, 'metadata': {}}, {'name': 'DeviceType', 'data_type': 'Utf8', 'nullable': True, 'dict_id': 0, 'dict_is_ordered': False, 'metadata': {}}, {'name': 'ApiName', 'data_type': 'Utf8', 'nullable': True, 'dict_id': 0, 'dict_is_ordered': False, 'metadata': {}}, {'name': 'LoggedTime', 'data_type': 'Utf8', 'nullable': True, 'dict_id': 0, 'dict_is_ordered': False, 'metadata': {}}, {'name': 'ProfileId', 'data_type': 'Utf8', 'nullable': True, 'dict_id': 0, 'dict_is_ordered': False, 'metadata': {}}, {'name': 'TenantId', 'data_type': 'Utf8', 'nullable': True, 'dict_id': 0, 'dict_is_ordered': False, 'metadata': {}}, {'name': 'MediaFirstRequiredSku', 'data_type': 'Utf8', 'nullable': True, 'dict_id': 0, 'dict_is_ordered': False, 'metadata': {}}, {'name': 'DvrCapability', 'data_type': 'Utf8', 'nullable': True, 'dict_id': 0, 'dict_is_ordered': False, 'metadata': {}}, {'name': 'date', 'data_type': 'Utf8', 'nullable': True, 'dict_id': 0, 'dict_is_ordered': False, 'metadata': {}}], 'metadata': {}}, 'bitmovin': {'fields': [{'name': 'ad', 'data_type': 'Utf8', 'nullable': True, 'dict_id': 0, 'dict_is_ordered': False, 'metadata': {}}, {'name': 'analytics_version', 'data_type': 'Utf8', 'nullable': True, 'dict_id': 0, 'dict_is_ordered': False, 'metadata': {}}, {'name': 'asn', 'data_type': 'Utf8', 'nullable': True, 'dict_id': 0, 'dict_is_ordered': False, 'metadata': {}}, {'name': 'audio_bitrate', 'data_type': 'Int64', 'nullable': True, 'dict_id': 0, 'dict_is_ordered': False, 'metadata': {}}, {'name': 'audio_language', 'data_type': 'Utf8', 'nullable': True, 'dict_id': 0, 'dict_is_ordered': False, 'metadata': {}}, {'name': 'browser', 'data_type': 'Utf8', 'nullable': True, 'dict_id': 0, 'dict_is_ordered': False, 'metadata': {}}, {'name': 'browser_is_bot', 'data_type': 'Boolean', 'nullable': True, 'dict_id': 0, 'dict_is_ordered': False, 'metadata': {}}, {'name': 'browser_version_major', 'data_type': 'Utf8', 'nullable': True, 'dict_id': 0, 'dict_is_ordered': False, 'metadata': {}}, {'name': 'browser_version_minor', 'data_type': 'Utf8', 'nullable': True, 'dict_id': 0, 'dict_is_ordered': False, 'metadata': {}}, {'name': 'buffered', 'data_type': 'Int64', 'nullable': True, 'dict_id': 0, 'dict_is_ordered': False, 'metadata': {}}, {'name': 'cdn_provider', 'data_type': 'Utf8', 'nullable': True, 'dict_id': 0, 'dict_is_ordered': False, 'metadata': {}}, {'name': 'city', 'data_type': 'Utf8', 'nullable': True, 'dict_id': 0, 'dict_is_ordered': False, 'metadata': {}}, {'name': 'client_time', 'data_type': 'Int64', 'nullable': True, 'dict_id': 0, 'dict_is_ordered': False, 'metadata': {}}, {'name': 'country', 'data_type': 'Utf8', 'nullable': True, 'dict_id': 0, 'dict_is_ordered': False, 'metadata': {}}, {'name': 'custom_user_id', 'data_type': 'Utf8', 'nullable': True, 'dict_id': 0, 'dict_is_ordered': False, 'metadata': {}}, {'name': 'date', 'data_type': 'Utf8', 'nullable': True, 'dict_id': 0, 'dict_is_ordered': False, 'metadata': {}}, {'name': 'day', 'data_type': 'Int64', 'nullable': True, 'dict_id': 0, 'dict_is_ordered': False, 'metadata': {}}, {'name': 'device_class', 'data_type': 'Utf8', 'nullable': True, 'dict_id': 0, 'dict_is_ordered': False, 'metadata': {}}, {'name': 'device_type', 'data_type': 'Utf8', 'nullable': True, 'dict_id': 0, 'dict_is_ordered': False, 'metadata': {}}, {'name': 'domain', 'data_type': 'Utf8', 'nullable': True, 'dict_id': 0, 'dict_is_ordered': False, 'metadata': {}}, {'name': 'drm_type', 'data_type': 'Utf8', 'nullable': True, 'dict_id': 0, 'dict_is_ordered': False, 'metadata': {}}, {'name': 'dropped_frames', 'data_type': 'Int64', 'nullable': True, 'dict_id': 0, 'dict_is_ordered': False, 'metadata': {}}, {'name': 'duration', 'data_type': 'Int64', 'nullable': True, 'dict_id': 0, 'dict_is_ordered': False, 'metadata': {}}, {'name': 'hour', 'data_type': 'Int64', 'nullable': True, 'dict_id': 0, 'dict_is_ordered': False, 'metadata': {}}, {'name': 'impression_id', 'data_type': 'Utf8', 'nullable': True, 'dict_id': 0, 'dict_is_ordered': False, 'metadata': {}}, {'name': 'ip_address', 'data_type': 'Utf8', 'nullable': True, 'dict_id': 0, 'dict_is_ordered': False, 'metadata': {}}, {'name': 'is_casting', 'data_type': 'Boolean', 'nullable': True, 'dict_id': 0, 'dict_is_ordered': False, 'metadata': {}}, {'name': 'is_live', 'data_type': 'Boolean', 'nullable': True, 'dict_id': 0, 'dict_is_ordered': False, 'metadata': {}}, {'name': 'is_muted', 'data_type': 'Boolean', 'nullable': True, 'dict_id': 0, 'dict_is_ordered': False, 'metadata': {}}, {'name': 'isp', 'data_type': 'Utf8', 'nullable': True, 'dict_id': 0, 'dict_is_ordered': False, 'metadata': {}}, {'name': 'language', 'data_type': 'Utf8', 'nullable': True, 'dict_id': 0, 'dict_is_ordered': False, 'metadata': {}}, {'name': 'm3u8_url', 'data_type': 'Utf8', 'nullable': True, 'dict_id': 0, 'dict_is_ordered': False, 'metadata': {}}, {'name': 'minute', 'data_type': 'Int64', 'nullable': True, 'dict_id': 0, 'dict_is_ordered': False, 'metadata': {}}, {'name': 'month', 'data_type': 'Int64', 'nullable': True, 'dict_id': 0, 'dict_is_ordered': False, 'metadata': {}}, {'name': 'operatingsystem', 'data_type': 'Utf8', 'nullable': True, 'dict_id': 0, 'dict_is_ordered': False, 'metadata': {}}, {'name': 'operatingsystem_version_major', 'data_type': 'Utf8', 'nullable': True, 'dict_id': 0, 'dict_is_ordered': False, 'metadata': {}}, {'name': 'operatingsystem_version_minor', 'data_type': 'Utf8', 'nullable': True, 'dict_id': 0, 'dict_is_ordered': False, 'metadata': {}}, {'name': 'page_load_time', 'data_type': 'Int64', 'nullable': True, 'dict_id': 0, 'dict_is_ordered': False, 'metadata': {}}, {'name': 'page_load_type', 'data_type': 'Int64', 'nullable': True, 'dict_id': 0, 'dict_is_ordered': False, 'metadata': {}}, {'name': 'paused', 'data_type': 'Int64', 'nullable': True, 'dict_id': 0, 'dict_is_ordered': False, 'metadata': {}}, {'name': 'platform', 'data_type': 'Utf8', 'nullable': True, 'dict_id': 0, 'dict_is_ordered': False, 'metadata': {}}, {'name': 'played', 'data_type': 'Int64', 'nullable': True, 'dict_id': 0, 'dict_is_ordered': False, 'metadata': {}}, {'name': 'player', 'data_type': 'Utf8', 'nullable': True, 'dict_id': 0, 'dict_is_ordered': False, 'metadata': {}}, {'name': 'player_startuptime', 'data_type': 'Int64', 'nullable': True, 'dict_id': 0, 'dict_is_ordered': False, 'metadata': {}}, {'name': 'player_tech', 'data_type': 'Utf8', 'nullable': True, 'dict_id': 0, 'dict_is_ordered': False, 'metadata': {}}, {'name': 'player_version', 'data_type': 'Utf8', 'nullable': True, 'dict_id': 0, 'dict_is_ordered': False, 'metadata': {}}, {'name': 'region', 'data_type': 'Utf8', 'nullable': True, 'dict_id': 0, 'dict_is_ordered': False, 'metadata': {}}, {'name': 'screen_height', 'data_type': 'Int64', 'nullable': True, 'dict_id': 0, 'dict_is_ordered': False, 'metadata': {}}, {'name': 'screen_width', 'data_type': 'Int64', 'nullable': True, 'dict_id': 0, 'dict_is_ordered': False, 'metadata': {}}, {'name': 'seeked', 'data_type': 'Int64', 'nullable': True, 'dict_id': 0, 'dict_is_ordered': False, 'metadata': {}}, {'name': 'sequence_number', 'data_type': 'Int32', 'nullable': True, 'dict_id': 0, 'dict_is_ordered': False, 'metadata': {}}, {'name': 'startuptime', 'data_type': 'Int64', 'nullable': True, 'dict_id': 0, 'dict_is_ordered': False, 'metadata': {}}, {'name': 'state', 'data_type': 'Utf8', 'nullable': True, 'dict_id': 0, 'dict_is_ordered': False, 'metadata': {}}, {'name': 'stream_format', 'data_type': 'Utf8', 'nullable': True, 'dict_id': 0, 'dict_is_ordered': False, 'metadata': {}}, {'name': 'subtitle_enabled', 'data_type': 'Boolean', 'nullable': True, 'dict_id': 0, 'dict_is_ordered': False, 'metadata': {}}, {'name': 'subtitle_language', 'data_type': 'Utf8', 'nullable': True, 'dict_id': 0, 'dict_is_ordered': False, 'metadata': {}}, {'name': 'tenant', 'data_type': 'Utf8', 'nullable': True, 'dict_id': 0, 'dict_is_ordered': False, 'metadata': {}}, {'name': 'time', 'data_type': 'Int64', 'nullable': True, 'dict_id': 0, 'dict_is_ordered': False, 'metadata': {}}, {'name': 'user_id', 'data_type': 'Utf8', 'nullable': True, 'dict_id': 0, 'dict_is_ordered': False, 'metadata': {}}, {'name': 'video_bitrate', 'data_type': 'Int64', 'nullable': True, 'dict_id': 0, 'dict_is_ordered': False, 'metadata': {}}, {'name': 'video_codec', 'data_type': 'Utf8', 'nullable': True, 'dict_id': 0, 'dict_is_ordered': False, 'metadata': {}}, {'name': 'video_duration', 'data_type': 'Int64', 'nullable': True, 'dict_id': 0, 'dict_is_ordered': False, 'metadata': {}}, {'name': 'video_id', 'data_type': 'Utf8', 'nullable': True, 'dict_id': 0, 'dict_is_ordered': False, 'metadata': {}}, {'name': 'video_playback_height', 'data_type': 'Int64', 'nullable': True, 'dict_id': 0, 'dict_is_ordered': False, 'metadata': {}}, {'name': 'video_playback_width', 'data_type': 'Int64', 'nullable': True, 'dict_id': 0, 'dict_is_ordered': False, 'metadata': {}}, {'name': 'video_startuptime', 'data_type': 'Int64', 'nullable': True, 'dict_id': 0, 'dict_is_ordered': False, 'metadata': {}}, {'name': 'video_title', 'data_type': 'Utf8', 'nullable': True, 'dict_id': 0, 'dict_is_ordered': False, 'metadata': {}}, {'name': 'video_window_height', 'data_type': 'Int64', 'nullable': True, 'dict_id': 0, 'dict_is_ordered': False, 'metadata': {}}, {'name': 'video_window_width', 'data_type': 'Int64', 'nullable': True, 'dict_id': 0, 'dict_is_ordered': False, 'metadata': {}}, {'name': 'videostart_failed', 'data_type': 'Boolean', 'nullable': True, 'dict_id': 0, 'dict_is_ordered': False, 'metadata': {}}, {'name': 'videostart_failed_reason', 'data_type': 'Utf8', 'nullable': True, 'dict_id': 0, 'dict_is_ordered': False, 'metadata': {}}, {'name': 'videotime_end', 'data_type': 'Int64', 'nullable': True, 'dict_id': 0, 'dict_is_ordered': False, 'metadata': {}}, {'name': 'videotime_start', 'data_type': 'Int64', 'nullable': True, 'dict_id': 0, 'dict_is_ordered': False, 'metadata': {}}, {'name': 'audio_codec', 'data_type': 'Utf8', 'nullable': True, 'dict_id': 0, 'dict_is_ordered': False, 'metadata': {}}, {'name': 'custom_data_1', 'data_type': 'Utf8', 'nullable': True, 'dict_id': 0, 'dict_is_ordered': False, 'metadata': {}}, {'name': 'custom_data_2', 'data_type': 'Utf8', 'nullable': True, 'dict_id': 0, 'dict_is_ordered': False, 'metadata': {}}, {'name': 'custom_data_3', 'data_type': 'Utf8', 'nullable': True, 'dict_id': 0, 'dict_is_ordered': False, 'metadata': {}}, {'name': 'custom_data_4', 'data_type': 'Utf8', 'nullable': True, 'dict_id': 0, 'dict_is_ordered': False, 'metadata': {}}, {'name': 'custom_data_5', 'data_type': 'Utf8', 'nullable': True, 'dict_id': 0, 'dict_is_ordered': False, 'metadata': {}}, {'name': 'experiment_name', 'data_type': 'Utf8', 'nullable': True, 'dict_id': 0, 'dict_is_ordered': False, 'metadata': {}}, {'name': 'path', 'data_type': 'Utf8', 'nullable': True, 'dict_id': 0, 'dict_is_ordered': False, 'metadata': {}}, {'name': 'player_key', 'data_type': 'Utf8', 'nullable': True, 'dict_id': 0, 'dict_is_ordered': False, 'metadata': {}}], 'metadata': {}}}\n",
      "{'asl': {'fields': [{'name': 'Id', 'data_type': 'Utf8', 'nullable': True, 'dict_id': 0, 'dict_is_ordered': False, 'metadata': {}}, {'name': 'AccountId', 'data_type': 'Utf8', 'nullable': True, 'dict_id': 0, 'dict_is_ordered': False, 'metadata': {}}, {'name': 'AccountType', 'data_type': 'Utf8', 'nullable': True, 'dict_id': 0, 'dict_is_ordered': False, 'metadata': {}}, {'name': 'DeviceId', 'data_type': 'Utf8', 'nullable': True, 'dict_id': 0, 'dict_is_ordered': False, 'metadata': {}}, {'name': 'DeviceType', 'data_type': 'Utf8', 'nullable': True, 'dict_id': 0, 'dict_is_ordered': False, 'metadata': {}}, {'name': 'ApiName', 'data_type': 'Utf8', 'nullable': True, 'dict_id': 0, 'dict_is_ordered': False, 'metadata': {}}, {'name': 'LoggedTime', 'data_type': 'Utf8', 'nullable': True, 'dict_id': 0, 'dict_is_ordered': False, 'metadata': {}}, {'name': 'ProfileId', 'data_type': 'Utf8', 'nullable': True, 'dict_id': 0, 'dict_is_ordered': False, 'metadata': {}}, {'name': 'TenantId', 'data_type': 'Utf8', 'nullable': True, 'dict_id': 0, 'dict_is_ordered': False, 'metadata': {}}, {'name': 'MediaFirstRequiredSku', 'data_type': 'Utf8', 'nullable': True, 'dict_id': 0, 'dict_is_ordered': False, 'metadata': {}}, {'name': 'DvrCapability', 'data_type': 'Utf8', 'nullable': True, 'dict_id': 0, 'dict_is_ordered': False, 'metadata': {}}, {'name': 'date', 'data_type': 'Utf8', 'nullable': True, 'dict_id': 0, 'dict_is_ordered': False, 'metadata': {}}], 'metadata': {}}, 'bitmovin': {'fields': [{'name': 'ad', 'data_type': 'Utf8', 'nullable': True, 'dict_id': 0, 'dict_is_ordered': False, 'metadata': {}}, {'name': 'analytics_version', 'data_type': 'Utf8', 'nullable': True, 'dict_id': 0, 'dict_is_ordered': False, 'metadata': {}}, {'name': 'asn', 'data_type': 'Utf8', 'nullable': True, 'dict_id': 0, 'dict_is_ordered': False, 'metadata': {}}, {'name': 'audio_bitrate', 'data_type': 'Int64', 'nullable': True, 'dict_id': 0, 'dict_is_ordered': False, 'metadata': {}}, {'name': 'audio_language', 'data_type': 'Utf8', 'nullable': True, 'dict_id': 0, 'dict_is_ordered': False, 'metadata': {}}, {'name': 'browser', 'data_type': 'Utf8', 'nullable': True, 'dict_id': 0, 'dict_is_ordered': False, 'metadata': {}}, {'name': 'browser_is_bot', 'data_type': 'Boolean', 'nullable': True, 'dict_id': 0, 'dict_is_ordered': False, 'metadata': {}}, {'name': 'browser_version_major', 'data_type': 'Utf8', 'nullable': True, 'dict_id': 0, 'dict_is_ordered': False, 'metadata': {}}, {'name': 'browser_version_minor', 'data_type': 'Utf8', 'nullable': True, 'dict_id': 0, 'dict_is_ordered': False, 'metadata': {}}, {'name': 'buffered', 'data_type': 'Int64', 'nullable': True, 'dict_id': 0, 'dict_is_ordered': False, 'metadata': {}}, {'name': 'cdn_provider', 'data_type': 'Utf8', 'nullable': True, 'dict_id': 0, 'dict_is_ordered': False, 'metadata': {}}, {'name': 'city', 'data_type': 'Utf8', 'nullable': True, 'dict_id': 0, 'dict_is_ordered': False, 'metadata': {}}, {'name': 'client_time', 'data_type': 'Int64', 'nullable': True, 'dict_id': 0, 'dict_is_ordered': False, 'metadata': {}}, {'name': 'country', 'data_type': 'Utf8', 'nullable': True, 'dict_id': 0, 'dict_is_ordered': False, 'metadata': {}}, {'name': 'custom_user_id', 'data_type': 'Utf8', 'nullable': True, 'dict_id': 0, 'dict_is_ordered': False, 'metadata': {}}, {'name': 'date', 'data_type': 'Utf8', 'nullable': True, 'dict_id': 0, 'dict_is_ordered': False, 'metadata': {}}, {'name': 'day', 'data_type': 'Int64', 'nullable': True, 'dict_id': 0, 'dict_is_ordered': False, 'metadata': {}}, {'name': 'device_class', 'data_type': 'Utf8', 'nullable': True, 'dict_id': 0, 'dict_is_ordered': False, 'metadata': {}}, {'name': 'device_type', 'data_type': 'Utf8', 'nullable': True, 'dict_id': 0, 'dict_is_ordered': False, 'metadata': {}}, {'name': 'domain', 'data_type': 'Utf8', 'nullable': True, 'dict_id': 0, 'dict_is_ordered': False, 'metadata': {}}, {'name': 'drm_type', 'data_type': 'Utf8', 'nullable': True, 'dict_id': 0, 'dict_is_ordered': False, 'metadata': {}}, {'name': 'dropped_frames', 'data_type': 'Int64', 'nullable': True, 'dict_id': 0, 'dict_is_ordered': False, 'metadata': {}}, {'name': 'duration', 'data_type': 'Int64', 'nullable': True, 'dict_id': 0, 'dict_is_ordered': False, 'metadata': {}}, {'name': 'hour', 'data_type': 'Int64', 'nullable': True, 'dict_id': 0, 'dict_is_ordered': False, 'metadata': {}}, {'name': 'impression_id', 'data_type': 'Utf8', 'nullable': True, 'dict_id': 0, 'dict_is_ordered': False, 'metadata': {}}, {'name': 'ip_address', 'data_type': 'Utf8', 'nullable': True, 'dict_id': 0, 'dict_is_ordered': False, 'metadata': {}}, {'name': 'is_casting', 'data_type': 'Boolean', 'nullable': True, 'dict_id': 0, 'dict_is_ordered': False, 'metadata': {}}, {'name': 'is_live', 'data_type': 'Boolean', 'nullable': True, 'dict_id': 0, 'dict_is_ordered': False, 'metadata': {}}, {'name': 'is_muted', 'data_type': 'Boolean', 'nullable': True, 'dict_id': 0, 'dict_is_ordered': False, 'metadata': {}}, {'name': 'isp', 'data_type': 'Utf8', 'nullable': True, 'dict_id': 0, 'dict_is_ordered': False, 'metadata': {}}, {'name': 'language', 'data_type': 'Utf8', 'nullable': True, 'dict_id': 0, 'dict_is_ordered': False, 'metadata': {}}, {'name': 'm3u8_url', 'data_type': 'Utf8', 'nullable': True, 'dict_id': 0, 'dict_is_ordered': False, 'metadata': {}}, {'name': 'minute', 'data_type': 'Int64', 'nullable': True, 'dict_id': 0, 'dict_is_ordered': False, 'metadata': {}}, {'name': 'month', 'data_type': 'Int64', 'nullable': True, 'dict_id': 0, 'dict_is_ordered': False, 'metadata': {}}, {'name': 'operatingsystem', 'data_type': 'Utf8', 'nullable': True, 'dict_id': 0, 'dict_is_ordered': False, 'metadata': {}}, {'name': 'operatingsystem_version_major', 'data_type': 'Utf8', 'nullable': True, 'dict_id': 0, 'dict_is_ordered': False, 'metadata': {}}, {'name': 'operatingsystem_version_minor', 'data_type': 'Utf8', 'nullable': True, 'dict_id': 0, 'dict_is_ordered': False, 'metadata': {}}, {'name': 'page_load_time', 'data_type': 'Int64', 'nullable': True, 'dict_id': 0, 'dict_is_ordered': False, 'metadata': {}}, {'name': 'page_load_type', 'data_type': 'Int64', 'nullable': True, 'dict_id': 0, 'dict_is_ordered': False, 'metadata': {}}, {'name': 'paused', 'data_type': 'Int64', 'nullable': True, 'dict_id': 0, 'dict_is_ordered': False, 'metadata': {}}, {'name': 'platform', 'data_type': 'Utf8', 'nullable': True, 'dict_id': 0, 'dict_is_ordered': False, 'metadata': {}}, {'name': 'played', 'data_type': 'Int64', 'nullable': True, 'dict_id': 0, 'dict_is_ordered': False, 'metadata': {}}, {'name': 'player', 'data_type': 'Utf8', 'nullable': True, 'dict_id': 0, 'dict_is_ordered': False, 'metadata': {}}, {'name': 'player_startuptime', 'data_type': 'Int64', 'nullable': True, 'dict_id': 0, 'dict_is_ordered': False, 'metadata': {}}, {'name': 'player_tech', 'data_type': 'Utf8', 'nullable': True, 'dict_id': 0, 'dict_is_ordered': False, 'metadata': {}}, {'name': 'player_version', 'data_type': 'Utf8', 'nullable': True, 'dict_id': 0, 'dict_is_ordered': False, 'metadata': {}}, {'name': 'region', 'data_type': 'Utf8', 'nullable': True, 'dict_id': 0, 'dict_is_ordered': False, 'metadata': {}}, {'name': 'screen_height', 'data_type': 'Int64', 'nullable': True, 'dict_id': 0, 'dict_is_ordered': False, 'metadata': {}}, {'name': 'screen_width', 'data_type': 'Int64', 'nullable': True, 'dict_id': 0, 'dict_is_ordered': False, 'metadata': {}}, {'name': 'seeked', 'data_type': 'Int64', 'nullable': True, 'dict_id': 0, 'dict_is_ordered': False, 'metadata': {}}, {'name': 'sequence_number', 'data_type': 'Int32', 'nullable': True, 'dict_id': 0, 'dict_is_ordered': False, 'metadata': {}}, {'name': 'startuptime', 'data_type': 'Int64', 'nullable': True, 'dict_id': 0, 'dict_is_ordered': False, 'metadata': {}}, {'name': 'state', 'data_type': 'Utf8', 'nullable': True, 'dict_id': 0, 'dict_is_ordered': False, 'metadata': {}}, {'name': 'stream_format', 'data_type': 'Utf8', 'nullable': True, 'dict_id': 0, 'dict_is_ordered': False, 'metadata': {}}, {'name': 'subtitle_enabled', 'data_type': 'Boolean', 'nullable': True, 'dict_id': 0, 'dict_is_ordered': False, 'metadata': {}}, {'name': 'subtitle_language', 'data_type': 'Utf8', 'nullable': True, 'dict_id': 0, 'dict_is_ordered': False, 'metadata': {}}, {'name': 'tenant', 'data_type': 'Utf8', 'nullable': True, 'dict_id': 0, 'dict_is_ordered': False, 'metadata': {}}, {'name': 'time', 'data_type': 'Int64', 'nullable': True, 'dict_id': 0, 'dict_is_ordered': False, 'metadata': {}}, {'name': 'user_id', 'data_type': 'Utf8', 'nullable': True, 'dict_id': 0, 'dict_is_ordered': False, 'metadata': {}}, {'name': 'video_bitrate', 'data_type': 'Int64', 'nullable': True, 'dict_id': 0, 'dict_is_ordered': False, 'metadata': {}}, {'name': 'video_codec', 'data_type': 'Utf8', 'nullable': True, 'dict_id': 0, 'dict_is_ordered': False, 'metadata': {}}, {'name': 'video_duration', 'data_type': 'Int64', 'nullable': True, 'dict_id': 0, 'dict_is_ordered': False, 'metadata': {}}, {'name': 'video_id', 'data_type': 'Utf8', 'nullable': True, 'dict_id': 0, 'dict_is_ordered': False, 'metadata': {}}, {'name': 'video_playback_height', 'data_type': 'Int64', 'nullable': True, 'dict_id': 0, 'dict_is_ordered': False, 'metadata': {}}, {'name': 'video_playback_width', 'data_type': 'Int64', 'nullable': True, 'dict_id': 0, 'dict_is_ordered': False, 'metadata': {}}, {'name': 'video_startuptime', 'data_type': 'Int64', 'nullable': True, 'dict_id': 0, 'dict_is_ordered': False, 'metadata': {}}, {'name': 'video_title', 'data_type': 'Utf8', 'nullable': True, 'dict_id': 0, 'dict_is_ordered': False, 'metadata': {}}, {'name': 'video_window_height', 'data_type': 'Int64', 'nullable': True, 'dict_id': 0, 'dict_is_ordered': False, 'metadata': {}}, {'name': 'video_window_width', 'data_type': 'Int64', 'nullable': True, 'dict_id': 0, 'dict_is_ordered': False, 'metadata': {}}, {'name': 'videostart_failed', 'data_type': 'Boolean', 'nullable': True, 'dict_id': 0, 'dict_is_ordered': False, 'metadata': {}}, {'name': 'videostart_failed_reason', 'data_type': 'Utf8', 'nullable': True, 'dict_id': 0, 'dict_is_ordered': False, 'metadata': {}}, {'name': 'videotime_end', 'data_type': 'Int64', 'nullable': True, 'dict_id': 0, 'dict_is_ordered': False, 'metadata': {}}, {'name': 'videotime_start', 'data_type': 'Int64', 'nullable': True, 'dict_id': 0, 'dict_is_ordered': False, 'metadata': {}}, {'name': 'audio_codec', 'data_type': 'Utf8', 'nullable': True, 'dict_id': 0, 'dict_is_ordered': False, 'metadata': {}}, {'name': 'custom_data_1', 'data_type': 'Utf8', 'nullable': True, 'dict_id': 0, 'dict_is_ordered': False, 'metadata': {}}, {'name': 'custom_data_2', 'data_type': 'Utf8', 'nullable': True, 'dict_id': 0, 'dict_is_ordered': False, 'metadata': {}}, {'name': 'custom_data_3', 'data_type': 'Utf8', 'nullable': True, 'dict_id': 0, 'dict_is_ordered': False, 'metadata': {}}, {'name': 'custom_data_4', 'data_type': 'Utf8', 'nullable': True, 'dict_id': 0, 'dict_is_ordered': False, 'metadata': {}}, {'name': 'custom_data_5', 'data_type': 'Utf8', 'nullable': True, 'dict_id': 0, 'dict_is_ordered': False, 'metadata': {}}, {'name': 'experiment_name', 'data_type': 'Utf8', 'nullable': True, 'dict_id': 0, 'dict_is_ordered': False, 'metadata': {}}, {'name': 'path', 'data_type': 'Utf8', 'nullable': True, 'dict_id': 0, 'dict_is_ordered': False, 'metadata': {}}, {'name': 'player_key', 'data_type': 'Utf8', 'nullable': True, 'dict_id': 0, 'dict_is_ordered': False, 'metadata': {}}], 'metadata': {}}}\n"
     ]
    },
    {
     "data": {
      "text/plain": [
       "\"Table 'asl' with columns: Id (VARCHAR), AccountId (VARCHAR), AccountType (VARCHAR), DeviceId (VARCHAR), DeviceType (VARCHAR), ApiName (VARCHAR), LoggedTime (VARCHAR), ProfileId (VARCHAR), TenantId (VARCHAR), MediaFirstRequiredSku (VARCHAR), DvrCapability (VARCHAR), date (VARCHAR)\\nTable 'bitmovin' with columns: ad (VARCHAR), analytics_version (VARCHAR), asn (VARCHAR), audio_bitrate (INTEGER), audio_language (VARCHAR), browser (VARCHAR), browser_is_bot (BOOLEAN), browser_version_major (VARCHAR), browser_version_minor (VARCHAR), buffered (INTEGER), cdn_provider (VARCHAR), city (VARCHAR), client_time (INTEGER), country (VARCHAR), custom_user_id (VARCHAR), date (VARCHAR), day (INTEGER), device_class (VARCHAR), device_type (VARCHAR), domain (VARCHAR), drm_type (VARCHAR), dropped_frames (INTEGER), duration (INTEGER), hour (INTEGER), impression_id (VARCHAR), ip_address (VARCHAR), is_casting (BOOLEAN), is_live (BOOLEAN), is_muted (BOOLEAN), isp (VARCHAR), language (VARCHAR), m3u8_url (VARCHAR), minute (INTEGER), month (INTEGER), operatingsystem (VARCHAR), operatingsystem_version_major (VARCHAR), operatingsystem_version_minor (VARCHAR), page_load_time (INTEGER), page_load_type (INTEGER), paused (INTEGER), platform (VARCHAR), played (INTEGER), player (VARCHAR), player_startuptime (INTEGER), player_tech (VARCHAR), player_version (VARCHAR), region (VARCHAR), screen_height (INTEGER), screen_width (INTEGER), seeked (INTEGER), sequence_number (INTEGER), startuptime (INTEGER), state (VARCHAR), stream_format (VARCHAR), subtitle_enabled (BOOLEAN), subtitle_language (VARCHAR), tenant (VARCHAR), time (INTEGER), user_id (VARCHAR), video_bitrate (INTEGER), video_codec (VARCHAR), video_duration (INTEGER), video_id (VARCHAR), video_playback_height (INTEGER), video_playback_width (INTEGER), video_startuptime (INTEGER), video_title (VARCHAR), video_window_height (INTEGER), video_window_width (INTEGER), videostart_failed (BOOLEAN), videostart_failed_reason (VARCHAR), videotime_end (INTEGER), videotime_start (INTEGER), audio_codec (VARCHAR), custom_data_1 (VARCHAR), custom_data_2 (VARCHAR), custom_data_3 (VARCHAR), custom_data_4 (VARCHAR), custom_data_5 (VARCHAR), experiment_name (VARCHAR), path (VARCHAR), player_key (VARCHAR)\""
      ]
     },
     "execution_count": 14,
     "metadata": {},
     "output_type": "execute_result"
    }
   ],
   "source": [
    "url = \"http://roapi-app-arash.dhbjd9bvccbjedea.eastus.azurecontainer.io:8000/api/schema\"\n",
    "table_schema = generate_table_schema(url)\n",
    "generate_table_schema(url)"
   ]
  },
  {
   "cell_type": "code",
   "execution_count": 15,
   "metadata": {},
   "outputs": [],
   "source": [
    "name_sql = \"sql_query_assistant\"\n",
    "instructions_sql = \"\"\"You are a data analyst that generates SQL query that conforms to PostressSQL style analysis using table metadata and user query.\"\"\"\n",
    "tools = [\n",
    "    {\n",
    "        \"type\": \"function\",\n",
    "        \"function\": {\n",
    "            \"name\": \"execute_sql_query\",\n",
    "            \"description\": \"Given table metadata and user qurey performs SQL anaylis\",\n",
    "            \"parameters\": {\"type\": \"object\", \"properties\": {}, \"required\": [\"current_date\", \"table_schema\", \"user_query\"]},\n",
    "        },\n",
    "    }\n",
    "]\n",
    "\n",
    "verbose_output = True"
   ]
  },
  {
   "cell_type": "code",
   "execution_count": 18,
   "metadata": {},
   "outputs": [],
   "source": [
    "def execute_sql_query(current_date, table_schema, user_query) -> str:\n",
    "    import requests\n",
    "    \"\"\"Execute the latest SQL queries.\"\"\"\n",
    "    data_sql_request = assistant_client.chat.completions.create(\n",
    "        model=deployment_name,\n",
    "        messages=[\n",
    "            {\n",
    "                \"role\": \"user\",\n",
    "                \"content\": f\"\"\"\n",
    "                You are an expert at ROAPI SQL analysis. You have access to ROAPI with the table descriptions.\n",
    "                Given a user question related to the data in the database, generate the SQL query that conforms to Postgres SQL style. Distinct the columns that need to be in double quotes and those that not.\n",
    "                Below are some examples of the SQL queries:\n",
    "                1- SELECT COUNT(DISTINCT user_id) AS active_user_count FROM bitmovin WHERE date >= to_date(cast(now() AS VARCHAR)) - INTERVAL '200 days' AND user_id IS NOT NULL;\n",
    "                2- SELECT * FROM bitmovin WHERE date >= to_date(cast(now() AS VARCHAR)) - INTERVAL '200 days' AND user_id IS NOT NULL LIMIT 10;\n",
    "                3- SELECT \"AccountType\", \"DeviceType\", \"ApiName\", COUNT(*) AS api_usage_count FROM asl GROUP BY \"AccountType\", \"DeviceType\", \"ApiName\" ORDER BY \"AccountType\", \"DeviceType\", api_usage_count DESC;\n",
    "                4- SELECT asl.\"TenantId\", asl.\"DeviceType\", bitmovin.\"browser\", COUNT(*) AS usage_count, AVG(bitmovin.\"page_load_time\") AS avg_page_load_time, AVG(bitmovin.\"startuptime\") AS avg_startup_time FROM asl JOIN bitmovin ON asl.\"TenantId\" = bitmovin.\"tenant\" GROUP BY asl.\"TenantId\", asl.\"DeviceType\", bitmovin.\"browser\" ORDER BY usage_count DESC LIMIT 10;\n",
    "                Make sure to make date queries align to today's date.\n",
    "                Only give the SQL query in the response, nothing else, don't add sql in front. Just SQL query.\n",
    "                {current_date}\n",
    "                {table_schema}\n",
    "                {user_query}\n",
    "                \"\"\"\n",
    "            }\n",
    "        ],\n",
    "        max_tokens=4096,\n",
    "    )\n",
    "    sql_query = data_sql_request.choices[0].message.content\n",
    "    print('This is the sql query:', sql_query)\n",
    "    # Execute SQL query\n",
    "    url = \"http://roapi-app-arash.dhbjd9bvccbjedea.eastus.azurecontainer.io:8000/api/sql\"\n",
    "    response = requests.post(url, data=sql_query)\n",
    "\n",
    "    # Check if the request was successful\n",
    "    data_sql = None  # Initialize data_sql\n",
    "\n",
    "    if response.status_code == 200:\n",
    "        try:\n",
    "            data_sql = response.json()\n",
    "            print(data_sql)\n",
    "        except requests.JSONDecodeError:\n",
    "            print(\"Failed to decode JSON response.\")\n",
    "    else:\n",
    "        print(f\"Failed to execute SQL query. Status code: {response.status_code}\")\n",
    "        data_sql = [] \n",
    "\n",
    "    return data_sql"
   ]
  },
  {
   "cell_type": "code",
   "execution_count": 21,
   "metadata": {},
   "outputs": [
    {
     "name": "stdout",
     "output_type": "stream",
     "text": [
      "This is the sql query: SELECT COUNT(DISTINCT \"user_id\") AS active_user_count \n",
      "FROM bitmovin \n",
      "WHERE date >= to_date('2024-11-21', 'YYYY-MM-DD') - INTERVAL '200 days' \n",
      "AND \"user_id\" IS NOT NULL;\n",
      "Failed to execute SQL query. Status code: 400\n"
     ]
    },
    {
     "data": {
      "text/plain": [
       "[]"
      ]
     },
     "execution_count": 21,
     "metadata": {},
     "output_type": "execute_result"
    }
   ],
   "source": [
    "execute_sql_query(current_date, table_schema, '5 records from asl')"
   ]
  },
  {
   "cell_type": "code",
   "execution_count": 50,
   "metadata": {},
   "outputs": [],
   "source": [
    "name_pa = \"user_proxy\"\n",
    "agent_arr = [\"date_time_assistant\", \"data_schema_assistant\", \"sql_query_assistant\"]\n",
    "agent_string = \"\"\n",
    "for item in agent_arr:\n",
    "    agent_string += f\"{item}\\n\"\n",
    "\n",
    "instructions_pa = f\"\"\"As a user proxy agent, your primary function is to streamline dialogue between the user and the specialized agents within this group chat. You are tasked with articulating user inquiries with clarity to the relevant agents and maintaining a steady flow of communication to guarantee the user's request is comprehensively addressed. Please withhold your response to the user until the task is completed, unless an issue is flagged by the respective agent or when you can provide a conclusive reply.\n",
    "You can ask data_schema_assistant to determine the schema and send it to the sql_query_assistant to query based on user input for analysis.\n",
    "\n",
    "You have access to the following agents to accomplish the task:\n",
    "{agent_string}\n",
    "If the agents above are not enough or are out of scope to complete the task, then run send_message with the name of the agent.\n",
    "\n",
    "When outputting the agent names, use them as the basis of the agent_name in the send message function, even if the agent doesn't exist yet.\n",
    "\n",
    "Run the send_message function for each agent name generated. \n",
    "\n",
    "Do not ask for followup questions, run the send_message function according to your initial input.\n",
    "\n",
    "Plan:\n",
    "1. date_time_assistant gets current date to perform SQL query datastamp analysis\n",
    "2. data_schema_assistant generates table information to provide to sql_query_assistant\n",
    "3. sql_query_assistant creates a SQL query based on user input and table schema and executes it to answer user question\n",
    "\n",
    "Now take a deep breath and accomplish the plan above. Always follow the plan step by step in the exact order and do not ask for followup questions. Do not skip any steps in the plan, do not repeat any steps and always complete the entire plan in order step by step.  \n",
    "The data_schema_assistant and date_time_assistant can never run more than one time in a row, review your plan before running the next step.\n",
    "\"\"\"\n",
    "\n",
    "tools = [\n",
    "    {\"type\": \"code_interpreter\"},\n",
    "    {\n",
    "        \"type\": \"function\",\n",
    "        \"function\": {\n",
    "            \"name\": \"send_message\",\n",
    "            \"description\": \"Send messages to other agents in this group chat.\",\n",
    "            \"parameters\": {\n",
    "                \"type\": \"object\",\n",
    "                \"properties\": {\n",
    "                    \"query\": {\n",
    "                        \"type\": \"string\",\n",
    "                        \"description\": \"The message to be sent\",\n",
    "                    },\n",
    "                    \"agent_name\": {\n",
    "                        \"type\": \"string\",\n",
    "                        \"description\": \"The name of the agent to execute the task.\",\n",
    "                    },\n",
    "                },\n",
    "                \"required\": [\"query\", \"agent_name\"],\n",
    "            },\n",
    "        },\n",
    "    },\n",
    "]\n",
    "\n",
    "verbose_output = True"
   ]
  },
  {
   "cell_type": "code",
   "execution_count": 51,
   "metadata": {},
   "outputs": [],
   "source": [
    "user_proxy = assistant_client.beta.assistants.create(\n",
    "  name=name_pa,\n",
    "  instructions=instructions_pa,\n",
    "  model=deployment_name,\n",
    "  tools=tools\n",
    ")\n",
    "date_time_assistant = assistant_client.beta.assistants.create(\n",
    "  name=name_date,\n",
    "  instructions=instructions_date,\n",
    "  model=deployment_name,\n",
    "  tools=tools\n",
    ")\n",
    "data_schema_assistant = assistant_client.beta.assistants.create(\n",
    "    name=name_schema,\n",
    "    instructions=instructions_schema,\n",
    "    model=deployment_name,\n",
    "    tools=tools\n",
    ")\n",
    "sql_query_assistant = assistant_client.beta.assistants.create(\n",
    "    name=name_sql,\n",
    "    instructions=instructions_sql,\n",
    "    model=deployment_name,\n",
    "    tools=tools\n",
    ")"
   ]
  },
  {
   "cell_type": "code",
   "execution_count": 52,
   "metadata": {},
   "outputs": [],
   "source": [
    "from typing import Dict, Optional\n",
    "\n",
    "agents_threads: Dict[str, Dict[str, Optional[str]]] = {\n",
    "    \"date_time_assistant\": {\"agent\": date_time_assistant, \"thread\": None},\n",
    "    \"data_schema_assistant\": {\"agent\": data_schema_assistant, \"thread\": None},\n",
    "    \"sql_query_assistant\": {\"agent\": sql_query_assistant, \"thread\": None}\n",
    "}\n",
    "\n",
    "\n",
    "# Define the send_message function with only the query parameter\n",
    "def send_message(query: str, agent_name: str) -> str:\n",
    "    # Check if the agent_name is in agents_threads\n",
    "    if agent_name not in agent_arr:\n",
    "        print(\n",
    "            f\"Agent '{agent_name}' does not exist. This means that the multi-agent system does not have the necessary agent to execute the task. *** FUTURE CODE: AGENT SWARM***\"\n",
    "        )\n",
    "        # return None\n",
    "    # If the program has not exited, proceed with setting the agent recipient\n",
    "    recipient_type = agent_name\n",
    "    recipient_info = agents_threads[recipient_type]\n",
    "\n",
    "    # If the program has not exited, proceed with setting the agent recipient\n",
    "    recipient_type = agent_name\n",
    "    recipient_info = agents_threads[recipient_type]\n",
    "\n",
    "    # Create a new thread if user proxy and agent thread does not exist\n",
    "    if not recipient_info[\"thread\"]:\n",
    "        thread_object = assistant_client.beta.threads.create()\n",
    "        recipient_info[\"thread\"] = thread_object\n",
    "\n",
    "    # This function dispatches a message to the proper agent and it's thread\n",
    "    return dispatch_message(query, recipient_info[\"agent\"], recipient_info[\"thread\"])\n",
    "    # print(\"Proxy Assistant Message: \" + message)"
   ]
  },
  {
   "cell_type": "code",
   "execution_count": 53,
   "metadata": {},
   "outputs": [],
   "source": [
    "def dispatch_message(message: str, agent: Assistant, thread: Thread) -> str:\n",
    "    # Loops through all the agents functions to determine which function to use\n",
    "\n",
    "    available_functions = {}\n",
    "    # Iterate through each tool in the agent.tools list\n",
    "    for tool in agent.tools:\n",
    "        # Check if the tool has a 'function' attribute\n",
    "        if hasattr(tool, \"function\"):\n",
    "            function_name = tool.function.name\n",
    "            # Attempt to retrieve the function by its name and add it to the available_functions dictionary\n",
    "            if function_name in globals():\n",
    "                available_functions[function_name] = globals()[function_name]\n",
    "        else:\n",
    "            # Handle the case where the tool does not have a 'function' attribute\n",
    "            print(\"This tool does not have a 'function' attribute.\")\n",
    "    # Draft a new message as part of the ongoing conversation.\n",
    "    message = assistant_client.beta.threads.messages.create(thread_id=thread.id, role=\"user\", content=message)\n",
    "    # Carry out the tasks delineated in this discussion thread.\n",
    "    run = assistant_client.beta.threads.runs.create(\n",
    "        thread_id=thread.id,\n",
    "        assistant_id=agent.id,\n",
    "    )\n",
    "    while True:\n",
    "        # Await the completion of the thread execution.\n",
    "        while run.status in [\"queued\", \"in_progress\"]:\n",
    "            run = assistant_client.beta.threads.runs.retrieve(thread_id=thread.id, run_id=run.id)\n",
    "            time.sleep(1)\n",
    "\n",
    "        # If an action is necessary, initiate the appropriate function to perform the task.\n",
    "        if run.status == \"requires_action\":\n",
    "            tool_calls = run.required_action.submit_tool_outputs.tool_calls\n",
    "            for _tool_call in tool_calls:\n",
    "                tool_responses = []\n",
    "                if (\n",
    "                    run.required_action.type == \"submit_tool_outputs\"\n",
    "                    and run.required_action.submit_tool_outputs.tool_calls is not None\n",
    "                ):\n",
    "                    tool_calls = run.required_action.submit_tool_outputs.tool_calls\n",
    "                    for call in tool_calls:\n",
    "                        if call.type == \"function\":\n",
    "                            if call.function.name not in available_functions:\n",
    "                                raise Exception(\"Function requested by the model does not exist\")\n",
    "\n",
    "                            # Assign the appropriate function to the agent for invocation.\n",
    "                            function_to_call = available_functions[call.function.name]\n",
    "                            tool_response = function_to_call(**json.loads(call.function.arguments))\n",
    "                            tool_responses.append({\"tool_call_id\": call.id, \"output\": tool_response})\n",
    "\n",
    "            # Present the outcomes produced by the tool.\n",
    "            run = assistant_client.beta.threads.runs.submit_tool_outputs(\n",
    "                thread_id=thread.id, run_id=run.id, tool_outputs=tool_responses\n",
    "            )\n",
    "\n",
    "        # if the run is completed, return the assistant message else provide error\n",
    "        elif run.status == \"failed\":\n",
    "            raise Exception(\"Run Failed. \", run.last_error)\n",
    "        # Craft a reply from the assistant.\n",
    "        else:\n",
    "            messages = assistant_client.beta.threads.messages.list(thread_id=thread.id)\n",
    "\n",
    "            # Transmit the response message back to the facilitating agent.\n",
    "            return messages.data[0].content[0].text.value"
   ]
  },
  {
   "cell_type": "code",
   "execution_count": null,
   "metadata": {},
   "outputs": [],
   "source": [
    "thread = assistant_client.beta.threads.create()\n",
    "# Initiate proxy agent and the main thread. This thread will remain active until the task is completed and will serve as the main communication thread between the other agents.\n",
    "user_message = input(\"User Query: Count of active users in last 200 days\")\n",
    "message = dispatch_message(user_message, user_proxy, thread)"
   ]
  },
  {
   "cell_type": "code",
   "execution_count": null,
   "metadata": {},
   "outputs": [],
   "source": [
    "# # Create a new thread if user proxy and agent thread does not exist\n",
    "# if not recipient_info[\"thread\"]:a\n",
    "#       thread_object = assistant_client.beta.threads.create()\n",
    "#       recipient_info[\"thread\"] = thread_object"
   ]
  }
 ],
 "metadata": {
  "kernelspec": {
   "display_name": "py310",
   "language": "python",
   "name": "python3"
  },
  "language_info": {
   "codemirror_mode": {
    "name": "ipython",
    "version": 3
   },
   "file_extension": ".py",
   "mimetype": "text/x-python",
   "name": "python",
   "nbconvert_exporter": "python",
   "pygments_lexer": "ipython3",
   "version": "3.10.15"
  }
 },
 "nbformat": 4,
 "nbformat_minor": 2
}
